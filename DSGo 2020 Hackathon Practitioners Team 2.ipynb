{
 "cells": [
  {
   "cell_type": "markdown",
   "metadata": {},
   "source": [
    "# DSGo 2020 Air Emissions"
   ]
  },
  {
   "cell_type": "code",
   "execution_count": 458,
   "metadata": {},
   "outputs": [],
   "source": [
    "import pandas as pd\n",
    "import numpy as np\n",
    "import matplotlib.pyplot as plt\n",
    "%matplotlib inline\n",
    "import seaborn as sns\n",
    "from sklearn.model_selection import train_test_split\n",
    "from sklearn.preprocessing import StandardScaler\n",
    "from sklearn.linear_model import LinearRegression\n",
    "from sklearn.metrics import mean_squared_error\n",
    "import xgboost as xgboost"
   ]
  },
  {
   "cell_type": "code",
   "execution_count": 459,
   "metadata": {},
   "outputs": [],
   "source": [
    "test=pd.read_csv(path+'test.csv')"
   ]
  },
  {
   "cell_type": "code",
   "execution_count": 460,
   "metadata": {},
   "outputs": [],
   "source": [
    "site=pd.read_csv(path+'site.csv')"
   ]
  },
  {
   "cell_type": "code",
   "execution_count": 461,
   "metadata": {},
   "outputs": [],
   "source": [
    "data_dictionary=pd.read_csv(path+'data_dictionary.csv')"
   ]
  },
  {
   "cell_type": "code",
   "execution_count": 462,
   "metadata": {},
   "outputs": [],
   "source": [
    "codes=pd.read_csv(path+'codes.csv')"
   ]
  },
  {
   "cell_type": "code",
   "execution_count": 463,
   "metadata": {},
   "outputs": [],
   "source": [
    "air_status=pd.read_csv(path+'air_status.csv')"
   ]
  },
  {
   "cell_type": "code",
   "execution_count": 464,
   "metadata": {},
   "outputs": [
    {
     "data": {
      "text/plain": [
       "996"
      ]
     },
     "execution_count": 464,
     "metadata": {},
     "output_type": "execute_result"
    }
   ],
   "source": [
    "len(test)"
   ]
  },
  {
   "cell_type": "code",
   "execution_count": 465,
   "metadata": {},
   "outputs": [
    {
     "data": {
      "text/plain": [
       "8"
      ]
     },
     "execution_count": 465,
     "metadata": {},
     "output_type": "execute_result"
    }
   ],
   "source": [
    "len(site)"
   ]
  },
  {
   "cell_type": "code",
   "execution_count": 466,
   "metadata": {},
   "outputs": [
    {
     "data": {
      "text/plain": [
       "23"
      ]
     },
     "execution_count": 466,
     "metadata": {},
     "output_type": "execute_result"
    }
   ],
   "source": [
    "len(data_dictionary)"
   ]
  },
  {
   "cell_type": "code",
   "execution_count": 467,
   "metadata": {},
   "outputs": [
    {
     "data": {
      "text/plain": [
       "58"
      ]
     },
     "execution_count": 467,
     "metadata": {},
     "output_type": "execute_result"
    }
   ],
   "source": [
    "len(codes)"
   ]
  },
  {
   "cell_type": "code",
   "execution_count": 468,
   "metadata": {},
   "outputs": [
    {
     "data": {
      "text/plain": [
       "6159"
      ]
     },
     "execution_count": 468,
     "metadata": {},
     "output_type": "execute_result"
    }
   ],
   "source": [
    "len(air_status)"
   ]
  },
  {
   "cell_type": "code",
   "execution_count": 469,
   "metadata": {},
   "outputs": [
    {
     "data": {
      "text/plain": [
       "Index(['SITE_ID', 'DATEON', 'DATEOFF', 'TSO4', 'TNO3', 'TNH4', 'Ca', 'Mg',\n",
       "       'Na', 'K', 'Cl', 'NSO4', 'NHNO3', 'WSO2', 'TOTAL_SO2', 'FLOW_VOLUME',\n",
       "       'VALID_HOURS', 'COMMENT_CODES', 'STD2LOCAL_CF', 'TEMP_SOURCE',\n",
       "       'QA_CODE', 'UPDATE_DATE'],\n",
       "      dtype='object')"
      ]
     },
     "execution_count": 469,
     "metadata": {},
     "output_type": "execute_result"
    }
   ],
   "source": [
    "test.columns"
   ]
  },
  {
   "cell_type": "code",
   "execution_count": 470,
   "metadata": {},
   "outputs": [
    {
     "data": {
      "text/plain": [
       "Index(['SITE_ID', 'DATEON', 'DATEOFF', 'TSO4', 'TNO3', 'TNH4', 'Ca', 'Mg',\n",
       "       'Na', 'K', 'Cl', 'NSO4', 'NHNO3', 'WSO2', 'TOTAL_SO2', 'TOTAL_NO3',\n",
       "       'FLOW_VOLUME', 'VALID_HOURS', 'COMMENT_CODES', 'STD2LOCAL_CF',\n",
       "       'TEMP_SOURCE', 'QA_CODE', 'UPDATE_DATE'],\n",
       "      dtype='object')"
      ]
     },
     "execution_count": 470,
     "metadata": {},
     "output_type": "execute_result"
    }
   ],
   "source": [
    "air_status.columns"
   ]
  },
  {
   "cell_type": "code",
   "execution_count": 471,
   "metadata": {},
   "outputs": [
    {
     "data": {
      "text/plain": [
       "SITE_ID             0\n",
       "DATEON              0\n",
       "DATEOFF             0\n",
       "TSO4                0\n",
       "TNO3                0\n",
       "TNH4                0\n",
       "Ca               1223\n",
       "Mg               1223\n",
       "Na               1223\n",
       "K                1227\n",
       "Cl               2297\n",
       "NSO4                0\n",
       "NHNO3               0\n",
       "WSO2                0\n",
       "TOTAL_SO2           0\n",
       "TOTAL_NO3           0\n",
       "FLOW_VOLUME         0\n",
       "VALID_HOURS         0\n",
       "COMMENT_CODES    4842\n",
       "STD2LOCAL_CF        0\n",
       "TEMP_SOURCE         0\n",
       "QA_CODE             0\n",
       "UPDATE_DATE         0\n",
       "dtype: int64"
      ]
     },
     "execution_count": 471,
     "metadata": {},
     "output_type": "execute_result"
    }
   ],
   "source": [
    "air_status.isna().sum()"
   ]
  },
  {
   "cell_type": "code",
   "execution_count": 472,
   "metadata": {},
   "outputs": [
    {
     "data": {
      "text/plain": [
       "SITE_ID          0\n",
       "DATEON           0\n",
       "DATEOFF          0\n",
       "TSO4             0\n",
       "TNO3             0\n",
       "TNH4             0\n",
       "Ca               0\n",
       "Mg               0\n",
       "Na               0\n",
       "K                0\n",
       "Cl               0\n",
       "NSO4             0\n",
       "NHNO3            0\n",
       "WSO2             0\n",
       "TOTAL_SO2        0\n",
       "FLOW_VOLUME      0\n",
       "VALID_HOURS      0\n",
       "COMMENT_CODES    0\n",
       "STD2LOCAL_CF     0\n",
       "TEMP_SOURCE      0\n",
       "QA_CODE          0\n",
       "UPDATE_DATE      0\n",
       "dtype: int64"
      ]
     },
     "execution_count": 472,
     "metadata": {},
     "output_type": "execute_result"
    }
   ],
   "source": [
    "test.isna().sum()"
   ]
  },
  {
   "cell_type": "markdown",
   "metadata": {},
   "source": [
    "# Test File Manipulation"
   ]
  },
  {
   "cell_type": "code",
   "execution_count": 473,
   "metadata": {},
   "outputs": [
    {
     "data": {
      "text/html": [
       "<div>\n",
       "<style scoped>\n",
       "    .dataframe tbody tr th:only-of-type {\n",
       "        vertical-align: middle;\n",
       "    }\n",
       "\n",
       "    .dataframe tbody tr th {\n",
       "        vertical-align: top;\n",
       "    }\n",
       "\n",
       "    .dataframe thead th {\n",
       "        text-align: right;\n",
       "    }\n",
       "</style>\n",
       "<table border=\"1\" class=\"dataframe\">\n",
       "  <thead>\n",
       "    <tr style=\"text-align: right;\">\n",
       "      <th></th>\n",
       "      <th>SITE_ID</th>\n",
       "      <th>DATEON</th>\n",
       "      <th>DATEOFF</th>\n",
       "      <th>TSO4</th>\n",
       "      <th>TNO3</th>\n",
       "      <th>TNH4</th>\n",
       "      <th>Ca</th>\n",
       "      <th>Mg</th>\n",
       "      <th>Na</th>\n",
       "      <th>K</th>\n",
       "      <th>...</th>\n",
       "      <th>NHNO3</th>\n",
       "      <th>WSO2</th>\n",
       "      <th>TOTAL_SO2</th>\n",
       "      <th>FLOW_VOLUME</th>\n",
       "      <th>VALID_HOURS</th>\n",
       "      <th>COMMENT_CODES</th>\n",
       "      <th>STD2LOCAL_CF</th>\n",
       "      <th>TEMP_SOURCE</th>\n",
       "      <th>QA_CODE</th>\n",
       "      <th>UPDATE_DATE</th>\n",
       "    </tr>\n",
       "  </thead>\n",
       "  <tbody>\n",
       "    <tr>\n",
       "      <th>0</th>\n",
       "      <td>CON186</td>\n",
       "      <td>2003-08-26</td>\n",
       "      <td>2003-09-02</td>\n",
       "      <td>2.0949</td>\n",
       "      <td>1.3105</td>\n",
       "      <td>0.6974</td>\n",
       "      <td>0.3210</td>\n",
       "      <td>0.0709</td>\n",
       "      <td>0.2831</td>\n",
       "      <td>0.0703</td>\n",
       "      <td>...</td>\n",
       "      <td>6.0538</td>\n",
       "      <td>0.7150</td>\n",
       "      <td>0.8077</td>\n",
       "      <td>36.8374</td>\n",
       "      <td>166</td>\n",
       "      <td>T4</td>\n",
       "      <td>1.228750</td>\n",
       "      <td>sa</td>\n",
       "      <td>3</td>\n",
       "      <td>2004-02-02</td>\n",
       "    </tr>\n",
       "    <tr>\n",
       "      <th>1</th>\n",
       "      <td>CON186</td>\n",
       "      <td>2004-04-27</td>\n",
       "      <td>2004-05-11</td>\n",
       "      <td>1.5278</td>\n",
       "      <td>1.8541</td>\n",
       "      <td>0.3870</td>\n",
       "      <td>0.5010</td>\n",
       "      <td>0.1011</td>\n",
       "      <td>0.3582</td>\n",
       "      <td>0.0891</td>\n",
       "      <td>...</td>\n",
       "      <td>2.1959</td>\n",
       "      <td>0.4824</td>\n",
       "      <td>0.5314</td>\n",
       "      <td>72.5240</td>\n",
       "      <td>327</td>\n",
       "      <td>G12</td>\n",
       "      <td>1.203630</td>\n",
       "      <td>sa</td>\n",
       "      <td>3</td>\n",
       "      <td>2008-07-18</td>\n",
       "    </tr>\n",
       "    <tr>\n",
       "      <th>2</th>\n",
       "      <td>CON186</td>\n",
       "      <td>2004-07-27</td>\n",
       "      <td>2004-08-03</td>\n",
       "      <td>1.4690</td>\n",
       "      <td>0.9887</td>\n",
       "      <td>0.5858</td>\n",
       "      <td>0.2767</td>\n",
       "      <td>0.0468</td>\n",
       "      <td>0.1600</td>\n",
       "      <td>0.0574</td>\n",
       "      <td>...</td>\n",
       "      <td>4.2968</td>\n",
       "      <td>0.3585</td>\n",
       "      <td>0.3944</td>\n",
       "      <td>36.4117</td>\n",
       "      <td>165</td>\n",
       "      <td>T01</td>\n",
       "      <td>1.225983</td>\n",
       "      <td>sa</td>\n",
       "      <td>3</td>\n",
       "      <td>2008-07-18</td>\n",
       "    </tr>\n",
       "    <tr>\n",
       "      <th>3</th>\n",
       "      <td>CON186</td>\n",
       "      <td>2007-12-18</td>\n",
       "      <td>2007-12-24</td>\n",
       "      <td>0.2642</td>\n",
       "      <td>0.1826</td>\n",
       "      <td>0.0745</td>\n",
       "      <td>0.0610</td>\n",
       "      <td>0.0174</td>\n",
       "      <td>0.0445</td>\n",
       "      <td>0.0113</td>\n",
       "      <td>...</td>\n",
       "      <td>0.4543</td>\n",
       "      <td>0.1201</td>\n",
       "      <td>0.1470</td>\n",
       "      <td>29.7150</td>\n",
       "      <td>142</td>\n",
       "      <td>G12</td>\n",
       "      <td>1.161903</td>\n",
       "      <td>sa</td>\n",
       "      <td>3</td>\n",
       "      <td>2008-07-18</td>\n",
       "    </tr>\n",
       "    <tr>\n",
       "      <th>4</th>\n",
       "      <td>CON186</td>\n",
       "      <td>2010-10-12</td>\n",
       "      <td>2010-10-19</td>\n",
       "      <td>1.0408</td>\n",
       "      <td>0.3775</td>\n",
       "      <td>0.3726</td>\n",
       "      <td>0.1786</td>\n",
       "      <td>0.0273</td>\n",
       "      <td>0.0556</td>\n",
       "      <td>0.0357</td>\n",
       "      <td>...</td>\n",
       "      <td>0.6277</td>\n",
       "      <td>0.1958</td>\n",
       "      <td>0.2310</td>\n",
       "      <td>36.5475</td>\n",
       "      <td>168</td>\n",
       "      <td>T01</td>\n",
       "      <td>1.207224</td>\n",
       "      <td>sa</td>\n",
       "      <td>3</td>\n",
       "      <td>2011-01-31</td>\n",
       "    </tr>\n",
       "  </tbody>\n",
       "</table>\n",
       "<p>5 rows × 22 columns</p>\n",
       "</div>"
      ],
      "text/plain": [
       "  SITE_ID      DATEON     DATEOFF    TSO4    TNO3    TNH4      Ca      Mg  \\\n",
       "0  CON186  2003-08-26  2003-09-02  2.0949  1.3105  0.6974  0.3210  0.0709   \n",
       "1  CON186  2004-04-27  2004-05-11  1.5278  1.8541  0.3870  0.5010  0.1011   \n",
       "2  CON186  2004-07-27  2004-08-03  1.4690  0.9887  0.5858  0.2767  0.0468   \n",
       "3  CON186  2007-12-18  2007-12-24  0.2642  0.1826  0.0745  0.0610  0.0174   \n",
       "4  CON186  2010-10-12  2010-10-19  1.0408  0.3775  0.3726  0.1786  0.0273   \n",
       "\n",
       "       Na       K  ...   NHNO3    WSO2  TOTAL_SO2  FLOW_VOLUME  VALID_HOURS  \\\n",
       "0  0.2831  0.0703  ...  6.0538  0.7150     0.8077      36.8374          166   \n",
       "1  0.3582  0.0891  ...  2.1959  0.4824     0.5314      72.5240          327   \n",
       "2  0.1600  0.0574  ...  4.2968  0.3585     0.3944      36.4117          165   \n",
       "3  0.0445  0.0113  ...  0.4543  0.1201     0.1470      29.7150          142   \n",
       "4  0.0556  0.0357  ...  0.6277  0.1958     0.2310      36.5475          168   \n",
       "\n",
       "   COMMENT_CODES  STD2LOCAL_CF TEMP_SOURCE  QA_CODE UPDATE_DATE  \n",
       "0             T4      1.228750          sa        3  2004-02-02  \n",
       "1            G12      1.203630          sa        3  2008-07-18  \n",
       "2            T01      1.225983          sa        3  2008-07-18  \n",
       "3            G12      1.161903          sa        3  2008-07-18  \n",
       "4            T01      1.207224          sa        3  2011-01-31  \n",
       "\n",
       "[5 rows x 22 columns]"
      ]
     },
     "execution_count": 473,
     "metadata": {},
     "output_type": "execute_result"
    }
   ],
   "source": [
    "test.head()"
   ]
  },
  {
   "cell_type": "code",
   "execution_count": 474,
   "metadata": {},
   "outputs": [
    {
     "name": "stdout",
     "output_type": "stream",
     "text": [
      "<class 'pandas.core.frame.DataFrame'>\n",
      "RangeIndex: 996 entries, 0 to 995\n",
      "Data columns (total 22 columns):\n",
      "SITE_ID          996 non-null object\n",
      "DATEON           996 non-null object\n",
      "DATEOFF          996 non-null object\n",
      "TSO4             996 non-null float64\n",
      "TNO3             996 non-null float64\n",
      "TNH4             996 non-null float64\n",
      "Ca               996 non-null float64\n",
      "Mg               996 non-null float64\n",
      "Na               996 non-null float64\n",
      "K                996 non-null float64\n",
      "Cl               996 non-null float64\n",
      "NSO4             996 non-null float64\n",
      "NHNO3            996 non-null float64\n",
      "WSO2             996 non-null float64\n",
      "TOTAL_SO2        996 non-null float64\n",
      "FLOW_VOLUME      996 non-null float64\n",
      "VALID_HOURS      996 non-null int64\n",
      "COMMENT_CODES    996 non-null object\n",
      "STD2LOCAL_CF     996 non-null float64\n",
      "TEMP_SOURCE      996 non-null object\n",
      "QA_CODE          996 non-null int64\n",
      "UPDATE_DATE      996 non-null object\n",
      "dtypes: float64(14), int64(2), object(6)\n",
      "memory usage: 171.3+ KB\n"
     ]
    }
   ],
   "source": [
    "test.info()"
   ]
  },
  {
   "cell_type": "code",
   "execution_count": 475,
   "metadata": {},
   "outputs": [],
   "source": [
    "test['DATEON']=pd.to_datetime(test['DATEON'])"
   ]
  },
  {
   "cell_type": "code",
   "execution_count": 476,
   "metadata": {},
   "outputs": [],
   "source": [
    "test['DATEOFF']=pd.to_datetime(test['DATEOFF'])"
   ]
  },
  {
   "cell_type": "code",
   "execution_count": 477,
   "metadata": {},
   "outputs": [
    {
     "data": {
      "text/plain": [
       "<matplotlib.axes._subplots.AxesSubplot at 0x7efc6853a320>"
      ]
     },
     "execution_count": 477,
     "metadata": {},
     "output_type": "execute_result"
    },
    {
     "data": {
      "image/png": "[encoded data removed]",
      "text/plain": [
       "<Figure size 432x288 with 1 Axes>"
      ]
     },
     "metadata": {
      "needs_background": "light"
     },
     "output_type": "display_data"
    }
   ],
   "source": [
    "test.DATEON.hist()"
   ]
  },
  {
   "cell_type": "code",
   "execution_count": 478,
   "metadata": {},
   "outputs": [
    {
     "data": {
      "text/plain": [
       "<matplotlib.axes._subplots.AxesSubplot at 0x7efc68480ba8>"
      ]
     },
     "execution_count": 478,
     "metadata": {},
     "output_type": "execute_result"
    },
    {
     "data": {
      "image/png": "[encoded data removed]",
      "text/plain": [
       "<Figure size 432x288 with 1 Axes>"
      ]
     },
     "metadata": {
      "needs_background": "light"
     },
     "output_type": "display_data"
    }
   ],
   "source": [
    "test.DATEOFF.hist()"
   ]
  },
  {
   "cell_type": "raw",
   "metadata": {},
   "source": [
    "test.UPDATE_DATE.hist()"
   ]
  },
  {
   "cell_type": "raw",
   "metadata": {},
   "source": [
    "test.UPDATE_DATE.describe()"
   ]
  },
  {
   "cell_type": "raw",
   "metadata": {},
   "source": [
    "test.UPDATE_DATE.max()"
   ]
  },
  {
   "cell_type": "raw",
   "metadata": {},
   "source": [
    "test.UPDATE_DATE.min()"
   ]
  },
  {
   "cell_type": "raw",
   "metadata": {},
   "source": [
    "test.UPDATE_DATE.loc[test.UPDATE_DATE=='0002-11-30']"
   ]
  },
  {
   "cell_type": "raw",
   "metadata": {},
   "source": [
    "test.UPDATE_DATE_year=test.UPDATE_DATE.apply(lambda x:x.year)"
   ]
  },
  {
   "cell_type": "raw",
   "metadata": {},
   "source": [
    "test."
   ]
  },
  {
   "cell_type": "raw",
   "metadata": {},
   "source": [
    "test['UPDATE_DATE']=pd.to_datetime(test['UPDATE_DATE'])"
   ]
  },
  {
   "cell_type": "code",
   "execution_count": 479,
   "metadata": {},
   "outputs": [],
   "source": [
    "test['DURATION']=test['DATEOFF']-test['DATEON']"
   ]
  },
  {
   "cell_type": "raw",
   "metadata": {},
   "source": [
    "test['UPDATE_DATE']>test['DATEOFF']"
   ]
  },
  {
   "cell_type": "code",
   "execution_count": 480,
   "metadata": {},
   "outputs": [
    {
     "data": {
      "text/html": [
       "<div>\n",
       "<style scoped>\n",
       "    .dataframe tbody tr th:only-of-type {\n",
       "        vertical-align: middle;\n",
       "    }\n",
       "\n",
       "    .dataframe tbody tr th {\n",
       "        vertical-align: top;\n",
       "    }\n",
       "\n",
       "    .dataframe thead th {\n",
       "        text-align: right;\n",
       "    }\n",
       "</style>\n",
       "<table border=\"1\" class=\"dataframe\">\n",
       "  <thead>\n",
       "    <tr style=\"text-align: right;\">\n",
       "      <th></th>\n",
       "      <th>SITE_ID</th>\n",
       "      <th>DATEON</th>\n",
       "      <th>DATEOFF</th>\n",
       "      <th>TSO4</th>\n",
       "      <th>TNO3</th>\n",
       "      <th>TNH4</th>\n",
       "      <th>Ca</th>\n",
       "      <th>Mg</th>\n",
       "      <th>Na</th>\n",
       "      <th>K</th>\n",
       "      <th>...</th>\n",
       "      <th>WSO2</th>\n",
       "      <th>TOTAL_SO2</th>\n",
       "      <th>FLOW_VOLUME</th>\n",
       "      <th>VALID_HOURS</th>\n",
       "      <th>COMMENT_CODES</th>\n",
       "      <th>STD2LOCAL_CF</th>\n",
       "      <th>TEMP_SOURCE</th>\n",
       "      <th>QA_CODE</th>\n",
       "      <th>UPDATE_DATE</th>\n",
       "      <th>DURATION</th>\n",
       "    </tr>\n",
       "  </thead>\n",
       "  <tbody>\n",
       "    <tr>\n",
       "      <th>0</th>\n",
       "      <td>CON186</td>\n",
       "      <td>2003-08-26</td>\n",
       "      <td>2003-09-02</td>\n",
       "      <td>2.0949</td>\n",
       "      <td>1.3105</td>\n",
       "      <td>0.6974</td>\n",
       "      <td>0.3210</td>\n",
       "      <td>0.0709</td>\n",
       "      <td>0.2831</td>\n",
       "      <td>0.0703</td>\n",
       "      <td>...</td>\n",
       "      <td>0.7150</td>\n",
       "      <td>0.8077</td>\n",
       "      <td>36.8374</td>\n",
       "      <td>166</td>\n",
       "      <td>T4</td>\n",
       "      <td>1.228750</td>\n",
       "      <td>sa</td>\n",
       "      <td>3</td>\n",
       "      <td>2004-02-02</td>\n",
       "      <td>7 days</td>\n",
       "    </tr>\n",
       "    <tr>\n",
       "      <th>1</th>\n",
       "      <td>CON186</td>\n",
       "      <td>2004-04-27</td>\n",
       "      <td>2004-05-11</td>\n",
       "      <td>1.5278</td>\n",
       "      <td>1.8541</td>\n",
       "      <td>0.3870</td>\n",
       "      <td>0.5010</td>\n",
       "      <td>0.1011</td>\n",
       "      <td>0.3582</td>\n",
       "      <td>0.0891</td>\n",
       "      <td>...</td>\n",
       "      <td>0.4824</td>\n",
       "      <td>0.5314</td>\n",
       "      <td>72.5240</td>\n",
       "      <td>327</td>\n",
       "      <td>G12</td>\n",
       "      <td>1.203630</td>\n",
       "      <td>sa</td>\n",
       "      <td>3</td>\n",
       "      <td>2008-07-18</td>\n",
       "      <td>14 days</td>\n",
       "    </tr>\n",
       "    <tr>\n",
       "      <th>2</th>\n",
       "      <td>CON186</td>\n",
       "      <td>2004-07-27</td>\n",
       "      <td>2004-08-03</td>\n",
       "      <td>1.4690</td>\n",
       "      <td>0.9887</td>\n",
       "      <td>0.5858</td>\n",
       "      <td>0.2767</td>\n",
       "      <td>0.0468</td>\n",
       "      <td>0.1600</td>\n",
       "      <td>0.0574</td>\n",
       "      <td>...</td>\n",
       "      <td>0.3585</td>\n",
       "      <td>0.3944</td>\n",
       "      <td>36.4117</td>\n",
       "      <td>165</td>\n",
       "      <td>T01</td>\n",
       "      <td>1.225983</td>\n",
       "      <td>sa</td>\n",
       "      <td>3</td>\n",
       "      <td>2008-07-18</td>\n",
       "      <td>7 days</td>\n",
       "    </tr>\n",
       "    <tr>\n",
       "      <th>3</th>\n",
       "      <td>CON186</td>\n",
       "      <td>2007-12-18</td>\n",
       "      <td>2007-12-24</td>\n",
       "      <td>0.2642</td>\n",
       "      <td>0.1826</td>\n",
       "      <td>0.0745</td>\n",
       "      <td>0.0610</td>\n",
       "      <td>0.0174</td>\n",
       "      <td>0.0445</td>\n",
       "      <td>0.0113</td>\n",
       "      <td>...</td>\n",
       "      <td>0.1201</td>\n",
       "      <td>0.1470</td>\n",
       "      <td>29.7150</td>\n",
       "      <td>142</td>\n",
       "      <td>G12</td>\n",
       "      <td>1.161903</td>\n",
       "      <td>sa</td>\n",
       "      <td>3</td>\n",
       "      <td>2008-07-18</td>\n",
       "      <td>6 days</td>\n",
       "    </tr>\n",
       "    <tr>\n",
       "      <th>4</th>\n",
       "      <td>CON186</td>\n",
       "      <td>2010-10-12</td>\n",
       "      <td>2010-10-19</td>\n",
       "      <td>1.0408</td>\n",
       "      <td>0.3775</td>\n",
       "      <td>0.3726</td>\n",
       "      <td>0.1786</td>\n",
       "      <td>0.0273</td>\n",
       "      <td>0.0556</td>\n",
       "      <td>0.0357</td>\n",
       "      <td>...</td>\n",
       "      <td>0.1958</td>\n",
       "      <td>0.2310</td>\n",
       "      <td>36.5475</td>\n",
       "      <td>168</td>\n",
       "      <td>T01</td>\n",
       "      <td>1.207224</td>\n",
       "      <td>sa</td>\n",
       "      <td>3</td>\n",
       "      <td>2011-01-31</td>\n",
       "      <td>7 days</td>\n",
       "    </tr>\n",
       "  </tbody>\n",
       "</table>\n",
       "<p>5 rows × 23 columns</p>\n",
       "</div>"
      ],
      "text/plain": [
       "  SITE_ID     DATEON    DATEOFF    TSO4    TNO3    TNH4      Ca      Mg  \\\n",
       "0  CON186 2003-08-26 2003-09-02  2.0949  1.3105  0.6974  0.3210  0.0709   \n",
       "1  CON186 2004-04-27 2004-05-11  1.5278  1.8541  0.3870  0.5010  0.1011   \n",
       "2  CON186 2004-07-27 2004-08-03  1.4690  0.9887  0.5858  0.2767  0.0468   \n",
       "3  CON186 2007-12-18 2007-12-24  0.2642  0.1826  0.0745  0.0610  0.0174   \n",
       "4  CON186 2010-10-12 2010-10-19  1.0408  0.3775  0.3726  0.1786  0.0273   \n",
       "\n",
       "       Na       K  ...    WSO2  TOTAL_SO2  FLOW_VOLUME  VALID_HOURS  \\\n",
       "0  0.2831  0.0703  ...  0.7150     0.8077      36.8374          166   \n",
       "1  0.3582  0.0891  ...  0.4824     0.5314      72.5240          327   \n",
       "2  0.1600  0.0574  ...  0.3585     0.3944      36.4117          165   \n",
       "3  0.0445  0.0113  ...  0.1201     0.1470      29.7150          142   \n",
       "4  0.0556  0.0357  ...  0.1958     0.2310      36.5475          168   \n",
       "\n",
       "   COMMENT_CODES  STD2LOCAL_CF  TEMP_SOURCE QA_CODE  UPDATE_DATE DURATION  \n",
       "0             T4      1.228750           sa       3   2004-02-02   7 days  \n",
       "1            G12      1.203630           sa       3   2008-07-18  14 days  \n",
       "2            T01      1.225983           sa       3   2008-07-18   7 days  \n",
       "3            G12      1.161903           sa       3   2008-07-18   6 days  \n",
       "4            T01      1.207224           sa       3   2011-01-31   7 days  \n",
       "\n",
       "[5 rows x 23 columns]"
      ]
     },
     "execution_count": 480,
     "metadata": {},
     "output_type": "execute_result"
    }
   ],
   "source": [
    "test.head()"
   ]
  },
  {
   "cell_type": "code",
   "execution_count": 481,
   "metadata": {},
   "outputs": [],
   "source": [
    "test['DATE_CHECK']=test['DATEON']>test[\"DATEOFF\"]"
   ]
  },
  {
   "cell_type": "code",
   "execution_count": 482,
   "metadata": {},
   "outputs": [
    {
     "data": {
      "text/plain": [
       "0"
      ]
     },
     "execution_count": 482,
     "metadata": {},
     "output_type": "execute_result"
    }
   ],
   "source": [
    "sum(test[\"DATE_CHECK\"])"
   ]
  },
  {
   "cell_type": "code",
   "execution_count": 483,
   "metadata": {},
   "outputs": [
    {
     "data": {
      "text/plain": [
       "SEK430    224\n",
       "PIN414    202\n",
       "LAV410    191\n",
       "YOS404    183\n",
       "JOT403    177\n",
       "DEV412      8\n",
       "CON186      7\n",
       "SEK402      4\n",
       "Name: SITE_ID, dtype: int64"
      ]
     },
     "execution_count": 483,
     "metadata": {},
     "output_type": "execute_result"
    }
   ],
   "source": [
    "test['SITE_ID'].value_counts()\n"
   ]
  },
  {
   "cell_type": "code",
   "execution_count": 484,
   "metadata": {},
   "outputs": [
    {
     "name": "stdout",
     "output_type": "stream",
     "text": [
      "Ca=  1223\n",
      "K=  1227\n",
      "Na=  1223\n",
      "Cl=  2297\n",
      "Mg=  1223\n"
     ]
    }
   ],
   "source": [
    "print('Ca= ', air_status['Ca'].isna().sum())\n",
    "print('K= ',air_status['K'].isna().sum())\n",
    "print('Na= ',air_status['Na'].isna().sum())\n",
    "print('Cl= ',air_status['Cl'].isna().sum())\n",
    "print('Mg= ',air_status['Mg'].isna().sum())"
   ]
  },
  {
   "cell_type": "code",
   "execution_count": 485,
   "metadata": {},
   "outputs": [],
   "source": [
    "# set missing values to average for site\n",
    "air_status['Ca'] = air_status['Ca'].fillna(air_status.groupby('SITE_ID')['Ca'].transform('mean'))\n",
    "air_status['K'] = air_status['K'].fillna(air_status.groupby('SITE_ID')['K'].transform('mean'))\n",
    "air_status['Na'] = air_status['Na'].fillna(air_status.groupby('SITE_ID')['Na'].transform('mean'))\n",
    "air_status['Cl'] = air_status['Cl'].fillna(air_status.groupby('SITE_ID')['Cl'].transform('mean'))\n",
    "air_status['Mg'] = air_status['Mg'].fillna(air_status.groupby('SITE_ID')['Mg'].transform('mean'))"
   ]
  },
  {
   "cell_type": "code",
   "execution_count": 486,
   "metadata": {},
   "outputs": [],
   "source": [
    "test['TOTAL_NO3']=test['TNO3']+0.9841*test['NHNO3']"
   ]
  },
  {
   "cell_type": "code",
   "execution_count": 487,
   "metadata": {},
   "outputs": [],
   "source": [
    "test['TOTAL_SO2_TEST']=test['WSO2']*test['NSO4']*0.667-test['TOTAL_SO2']"
   ]
  },
  {
   "cell_type": "code",
   "execution_count": 488,
   "metadata": {},
   "outputs": [
    {
     "data": {
      "text/plain": [
       "<matplotlib.axes._subplots.AxesSubplot at 0x7efc64c66358>"
      ]
     },
     "execution_count": 488,
     "metadata": {},
     "output_type": "execute_result"
    },
    {
     "data": {
      "image/png": "[encoded data removed]",
      "text/plain": [
       "<Figure size 432x288 with 1 Axes>"
      ]
     },
     "metadata": {
      "needs_background": "light"
     },
     "output_type": "display_data"
    }
   ],
   "source": [
    "test['TOTAL_SO2_TEST'].hist()"
   ]
  },
  {
   "cell_type": "code",
   "execution_count": 489,
   "metadata": {},
   "outputs": [
    {
     "data": {
      "text/plain": [
       "-0.43686789348097355"
      ]
     },
     "execution_count": 489,
     "metadata": {},
     "output_type": "execute_result"
    }
   ],
   "source": [
    "test['TOTAL_SO2_TEST'].mean()"
   ]
  },
  {
   "cell_type": "markdown",
   "metadata": {},
   "source": [
    "# Train Data"
   ]
  },
  {
   "cell_type": "code",
   "execution_count": 490,
   "metadata": {},
   "outputs": [
    {
     "data": {
      "text/html": [
       "<div>\n",
       "<style scoped>\n",
       "    .dataframe tbody tr th:only-of-type {\n",
       "        vertical-align: middle;\n",
       "    }\n",
       "\n",
       "    .dataframe tbody tr th {\n",
       "        vertical-align: top;\n",
       "    }\n",
       "\n",
       "    .dataframe thead th {\n",
       "        text-align: right;\n",
       "    }\n",
       "</style>\n",
       "<table border=\"1\" class=\"dataframe\">\n",
       "  <thead>\n",
       "    <tr style=\"text-align: right;\">\n",
       "      <th></th>\n",
       "      <th>SITE_ID</th>\n",
       "      <th>DATEON</th>\n",
       "      <th>DATEOFF</th>\n",
       "      <th>TSO4</th>\n",
       "      <th>TNO3</th>\n",
       "      <th>TNH4</th>\n",
       "      <th>Ca</th>\n",
       "      <th>Mg</th>\n",
       "      <th>Na</th>\n",
       "      <th>K</th>\n",
       "      <th>...</th>\n",
       "      <th>WSO2</th>\n",
       "      <th>TOTAL_SO2</th>\n",
       "      <th>TOTAL_NO3</th>\n",
       "      <th>FLOW_VOLUME</th>\n",
       "      <th>VALID_HOURS</th>\n",
       "      <th>COMMENT_CODES</th>\n",
       "      <th>STD2LOCAL_CF</th>\n",
       "      <th>TEMP_SOURCE</th>\n",
       "      <th>QA_CODE</th>\n",
       "      <th>UPDATE_DATE</th>\n",
       "    </tr>\n",
       "  </thead>\n",
       "  <tbody>\n",
       "    <tr>\n",
       "      <th>0</th>\n",
       "      <td>CON186</td>\n",
       "      <td>2003-06-17</td>\n",
       "      <td>2003-06-24</td>\n",
       "      <td>1.6460</td>\n",
       "      <td>2.6535</td>\n",
       "      <td>1.0740</td>\n",
       "      <td>0.1625</td>\n",
       "      <td>0.0440</td>\n",
       "      <td>0.1980</td>\n",
       "      <td>0.0609</td>\n",
       "      <td>...</td>\n",
       "      <td>0.3286</td>\n",
       "      <td>0.3544</td>\n",
       "      <td>6.0754</td>\n",
       "      <td>36.2704</td>\n",
       "      <td>168</td>\n",
       "      <td>NaN</td>\n",
       "      <td>1.196241</td>\n",
       "      <td>sa</td>\n",
       "      <td>3</td>\n",
       "      <td>2004-02-02</td>\n",
       "    </tr>\n",
       "    <tr>\n",
       "      <th>1</th>\n",
       "      <td>CON186</td>\n",
       "      <td>2003-06-24</td>\n",
       "      <td>2003-07-01</td>\n",
       "      <td>1.0356</td>\n",
       "      <td>0.6297</td>\n",
       "      <td>0.4035</td>\n",
       "      <td>0.2331</td>\n",
       "      <td>0.0394</td>\n",
       "      <td>0.1455</td>\n",
       "      <td>0.0444</td>\n",
       "      <td>...</td>\n",
       "      <td>0.4054</td>\n",
       "      <td>0.4466</td>\n",
       "      <td>4.0244</td>\n",
       "      <td>37.0314</td>\n",
       "      <td>167</td>\n",
       "      <td>NaN</td>\n",
       "      <td>1.227204</td>\n",
       "      <td>sa</td>\n",
       "      <td>3</td>\n",
       "      <td>2004-02-02</td>\n",
       "    </tr>\n",
       "    <tr>\n",
       "      <th>2</th>\n",
       "      <td>CON186</td>\n",
       "      <td>2003-07-01</td>\n",
       "      <td>2003-07-08</td>\n",
       "      <td>1.5335</td>\n",
       "      <td>1.2570</td>\n",
       "      <td>0.4836</td>\n",
       "      <td>0.2185</td>\n",
       "      <td>0.0759</td>\n",
       "      <td>0.3440</td>\n",
       "      <td>0.1697</td>\n",
       "      <td>...</td>\n",
       "      <td>0.5119</td>\n",
       "      <td>0.5684</td>\n",
       "      <td>5.7479</td>\n",
       "      <td>37.9842</td>\n",
       "      <td>171</td>\n",
       "      <td>NaN</td>\n",
       "      <td>1.228530</td>\n",
       "      <td>sa</td>\n",
       "      <td>3</td>\n",
       "      <td>2004-02-02</td>\n",
       "    </tr>\n",
       "    <tr>\n",
       "      <th>3</th>\n",
       "      <td>CON186</td>\n",
       "      <td>2003-07-08</td>\n",
       "      <td>2003-07-15</td>\n",
       "      <td>1.7773</td>\n",
       "      <td>0.8323</td>\n",
       "      <td>0.6537</td>\n",
       "      <td>0.2894</td>\n",
       "      <td>0.0541</td>\n",
       "      <td>0.2134</td>\n",
       "      <td>0.0850</td>\n",
       "      <td>...</td>\n",
       "      <td>0.4154</td>\n",
       "      <td>0.4510</td>\n",
       "      <td>5.0664</td>\n",
       "      <td>37.3987</td>\n",
       "      <td>166</td>\n",
       "      <td>NaN</td>\n",
       "      <td>1.245875</td>\n",
       "      <td>sa</td>\n",
       "      <td>3</td>\n",
       "      <td>2004-02-02</td>\n",
       "    </tr>\n",
       "    <tr>\n",
       "      <th>4</th>\n",
       "      <td>CON186</td>\n",
       "      <td>2003-07-15</td>\n",
       "      <td>2003-07-22</td>\n",
       "      <td>2.1637</td>\n",
       "      <td>1.3187</td>\n",
       "      <td>0.7899</td>\n",
       "      <td>0.4331</td>\n",
       "      <td>0.0800</td>\n",
       "      <td>0.2679</td>\n",
       "      <td>0.1382</td>\n",
       "      <td>...</td>\n",
       "      <td>0.6910</td>\n",
       "      <td>0.7512</td>\n",
       "      <td>5.5863</td>\n",
       "      <td>37.1449</td>\n",
       "      <td>166</td>\n",
       "      <td>NaN</td>\n",
       "      <td>1.237604</td>\n",
       "      <td>sa</td>\n",
       "      <td>3</td>\n",
       "      <td>2004-02-02</td>\n",
       "    </tr>\n",
       "  </tbody>\n",
       "</table>\n",
       "<p>5 rows × 23 columns</p>\n",
       "</div>"
      ],
      "text/plain": [
       "  SITE_ID      DATEON     DATEOFF    TSO4    TNO3    TNH4      Ca      Mg  \\\n",
       "0  CON186  2003-06-17  2003-06-24  1.6460  2.6535  1.0740  0.1625  0.0440   \n",
       "1  CON186  2003-06-24  2003-07-01  1.0356  0.6297  0.4035  0.2331  0.0394   \n",
       "2  CON186  2003-07-01  2003-07-08  1.5335  1.2570  0.4836  0.2185  0.0759   \n",
       "3  CON186  2003-07-08  2003-07-15  1.7773  0.8323  0.6537  0.2894  0.0541   \n",
       "4  CON186  2003-07-15  2003-07-22  2.1637  1.3187  0.7899  0.4331  0.0800   \n",
       "\n",
       "       Na       K  ...    WSO2  TOTAL_SO2  TOTAL_NO3  FLOW_VOLUME  \\\n",
       "0  0.1980  0.0609  ...  0.3286     0.3544     6.0754      36.2704   \n",
       "1  0.1455  0.0444  ...  0.4054     0.4466     4.0244      37.0314   \n",
       "2  0.3440  0.1697  ...  0.5119     0.5684     5.7479      37.9842   \n",
       "3  0.2134  0.0850  ...  0.4154     0.4510     5.0664      37.3987   \n",
       "4  0.2679  0.1382  ...  0.6910     0.7512     5.5863      37.1449   \n",
       "\n",
       "   VALID_HOURS  COMMENT_CODES  STD2LOCAL_CF  TEMP_SOURCE QA_CODE  UPDATE_DATE  \n",
       "0          168            NaN      1.196241           sa       3   2004-02-02  \n",
       "1          167            NaN      1.227204           sa       3   2004-02-02  \n",
       "2          171            NaN      1.228530           sa       3   2004-02-02  \n",
       "3          166            NaN      1.245875           sa       3   2004-02-02  \n",
       "4          166            NaN      1.237604           sa       3   2004-02-02  \n",
       "\n",
       "[5 rows x 23 columns]"
      ]
     },
     "execution_count": 490,
     "metadata": {},
     "output_type": "execute_result"
    }
   ],
   "source": [
    "air_status.head()"
   ]
  },
  {
   "cell_type": "code",
   "execution_count": 491,
   "metadata": {},
   "outputs": [
    {
     "name": "stdout",
     "output_type": "stream",
     "text": [
      "<class 'pandas.core.frame.DataFrame'>\n",
      "RangeIndex: 6159 entries, 0 to 6158\n",
      "Data columns (total 23 columns):\n",
      "SITE_ID          6159 non-null object\n",
      "DATEON           6159 non-null object\n",
      "DATEOFF          6159 non-null object\n",
      "TSO4             6159 non-null float64\n",
      "TNO3             6159 non-null float64\n",
      "TNH4             6159 non-null float64\n",
      "Ca               6159 non-null float64\n",
      "Mg               6159 non-null float64\n",
      "Na               6159 non-null float64\n",
      "K                6159 non-null float64\n",
      "Cl               6159 non-null float64\n",
      "NSO4             6159 non-null float64\n",
      "NHNO3            6159 non-null float64\n",
      "WSO2             6159 non-null float64\n",
      "TOTAL_SO2        6159 non-null float64\n",
      "TOTAL_NO3        6159 non-null float64\n",
      "FLOW_VOLUME      6159 non-null float64\n",
      "VALID_HOURS      6159 non-null int64\n",
      "COMMENT_CODES    1317 non-null object\n",
      "STD2LOCAL_CF     6159 non-null float64\n",
      "TEMP_SOURCE      6159 non-null object\n",
      "QA_CODE          6159 non-null int64\n",
      "UPDATE_DATE      6159 non-null object\n",
      "dtypes: float64(15), int64(2), object(6)\n",
      "memory usage: 1.1+ MB\n"
     ]
    }
   ],
   "source": [
    "air_status.info()"
   ]
  },
  {
   "cell_type": "code",
   "execution_count": 492,
   "metadata": {},
   "outputs": [],
   "source": [
    "air_status['DATEON']=pd.to_datetime(air_status['DATEON'])"
   ]
  },
  {
   "cell_type": "code",
   "execution_count": 493,
   "metadata": {},
   "outputs": [],
   "source": [
    "air_status['DATEOFF']=pd.to_datetime(air_status['DATEOFF'])"
   ]
  },
  {
   "cell_type": "code",
   "execution_count": 494,
   "metadata": {},
   "outputs": [
    {
     "data": {
      "text/plain": [
       "<matplotlib.axes._subplots.AxesSubplot at 0x7efc64b45eb8>"
      ]
     },
     "execution_count": 494,
     "metadata": {},
     "output_type": "execute_result"
    },
    {
     "data": {
      "image/png": "[encoded data removed]",
      "text/plain": [
       "<Figure size 432x288 with 1 Axes>"
      ]
     },
     "metadata": {
      "needs_background": "light"
     },
     "output_type": "display_data"
    }
   ],
   "source": [
    "air_status.DATEON.hist()"
   ]
  },
  {
   "cell_type": "code",
   "execution_count": 495,
   "metadata": {},
   "outputs": [
    {
     "data": {
      "text/plain": [
       "<matplotlib.axes._subplots.AxesSubplot at 0x7efc64edcc18>"
      ]
     },
     "execution_count": 495,
     "metadata": {},
     "output_type": "execute_result"
    },
    {
     "data": {
      "image/png": "[encoded data removed]",
      "text/plain": [
       "<Figure size 432x288 with 1 Axes>"
      ]
     },
     "metadata": {
      "needs_background": "light"
     },
     "output_type": "display_data"
    }
   ],
   "source": [
    "air_status.DATEOFF.hist()"
   ]
  },
  {
   "cell_type": "code",
   "execution_count": 496,
   "metadata": {},
   "outputs": [
    {
     "data": {
      "text/plain": [
       "<matplotlib.axes._subplots.AxesSubplot at 0x7efc64d6a550>"
      ]
     },
     "execution_count": 496,
     "metadata": {},
     "output_type": "execute_result"
    },
    {
     "data": {
      "image/png": "[encoded data removed]",
      "text/plain": [
       "<Figure size 432x288 with 1 Axes>"
      ]
     },
     "metadata": {
      "needs_background": "light"
     },
     "output_type": "display_data"
    }
   ],
   "source": [
    "air_status.UPDATE_DATE.hist()"
   ]
  },
  {
   "cell_type": "code",
   "execution_count": 497,
   "metadata": {},
   "outputs": [
    {
     "data": {
      "text/plain": [
       "count           6159\n",
       "unique           193\n",
       "top       2003-04-30\n",
       "freq            2076\n",
       "Name: UPDATE_DATE, dtype: object"
      ]
     },
     "execution_count": 497,
     "metadata": {},
     "output_type": "execute_result"
    }
   ],
   "source": [
    "air_status.UPDATE_DATE.describe()"
   ]
  },
  {
   "cell_type": "code",
   "execution_count": 498,
   "metadata": {},
   "outputs": [
    {
     "data": {
      "text/plain": [
       "'2020-09-30'"
      ]
     },
     "execution_count": 498,
     "metadata": {},
     "output_type": "execute_result"
    }
   ],
   "source": [
    "air_status.UPDATE_DATE.max()"
   ]
  },
  {
   "cell_type": "code",
   "execution_count": 499,
   "metadata": {},
   "outputs": [
    {
     "data": {
      "text/plain": [
       "'0002-11-30'"
      ]
     },
     "execution_count": 499,
     "metadata": {},
     "output_type": "execute_result"
    }
   ],
   "source": [
    "air_status.UPDATE_DATE.min()"
   ]
  },
  {
   "cell_type": "raw",
   "metadata": {},
   "source": [
    "test.UPDATE_DATE.loc[test.UPDATE_DATE=='0002-11-30']"
   ]
  },
  {
   "cell_type": "raw",
   "metadata": {},
   "source": [
    "test.UPDATE_DATE_year=test.UPDATE_DATE.apply(lambda x:x.year)"
   ]
  },
  {
   "cell_type": "raw",
   "metadata": {},
   "source": [
    "test."
   ]
  },
  {
   "cell_type": "raw",
   "metadata": {},
   "source": [
    "test['UPDATE_DATE']=pd.to_datetime(test['UPDATE_DATE'])"
   ]
  },
  {
   "cell_type": "code",
   "execution_count": 500,
   "metadata": {},
   "outputs": [],
   "source": [
    "air_status['DURATION']=air_status['DATEOFF']-air_status['DATEON']"
   ]
  },
  {
   "cell_type": "raw",
   "metadata": {},
   "source": [
    "test['UPDATE_DATE']>test['DATEOFF']"
   ]
  },
  {
   "cell_type": "code",
   "execution_count": 501,
   "metadata": {},
   "outputs": [
    {
     "data": {
      "text/html": [
       "<div>\n",
       "<style scoped>\n",
       "    .dataframe tbody tr th:only-of-type {\n",
       "        vertical-align: middle;\n",
       "    }\n",
       "\n",
       "    .dataframe tbody tr th {\n",
       "        vertical-align: top;\n",
       "    }\n",
       "\n",
       "    .dataframe thead th {\n",
       "        text-align: right;\n",
       "    }\n",
       "</style>\n",
       "<table border=\"1\" class=\"dataframe\">\n",
       "  <thead>\n",
       "    <tr style=\"text-align: right;\">\n",
       "      <th></th>\n",
       "      <th>SITE_ID</th>\n",
       "      <th>DATEON</th>\n",
       "      <th>DATEOFF</th>\n",
       "      <th>TSO4</th>\n",
       "      <th>TNO3</th>\n",
       "      <th>TNH4</th>\n",
       "      <th>Ca</th>\n",
       "      <th>Mg</th>\n",
       "      <th>Na</th>\n",
       "      <th>K</th>\n",
       "      <th>...</th>\n",
       "      <th>TOTAL_SO2</th>\n",
       "      <th>TOTAL_NO3</th>\n",
       "      <th>FLOW_VOLUME</th>\n",
       "      <th>VALID_HOURS</th>\n",
       "      <th>COMMENT_CODES</th>\n",
       "      <th>STD2LOCAL_CF</th>\n",
       "      <th>TEMP_SOURCE</th>\n",
       "      <th>QA_CODE</th>\n",
       "      <th>UPDATE_DATE</th>\n",
       "      <th>DURATION</th>\n",
       "    </tr>\n",
       "  </thead>\n",
       "  <tbody>\n",
       "    <tr>\n",
       "      <th>0</th>\n",
       "      <td>CON186</td>\n",
       "      <td>2003-06-17</td>\n",
       "      <td>2003-06-24</td>\n",
       "      <td>1.6460</td>\n",
       "      <td>2.6535</td>\n",
       "      <td>1.0740</td>\n",
       "      <td>0.1625</td>\n",
       "      <td>0.0440</td>\n",
       "      <td>0.1980</td>\n",
       "      <td>0.0609</td>\n",
       "      <td>...</td>\n",
       "      <td>0.3544</td>\n",
       "      <td>6.0754</td>\n",
       "      <td>36.2704</td>\n",
       "      <td>168</td>\n",
       "      <td>NaN</td>\n",
       "      <td>1.196241</td>\n",
       "      <td>sa</td>\n",
       "      <td>3</td>\n",
       "      <td>2004-02-02</td>\n",
       "      <td>7 days</td>\n",
       "    </tr>\n",
       "    <tr>\n",
       "      <th>1</th>\n",
       "      <td>CON186</td>\n",
       "      <td>2003-06-24</td>\n",
       "      <td>2003-07-01</td>\n",
       "      <td>1.0356</td>\n",
       "      <td>0.6297</td>\n",
       "      <td>0.4035</td>\n",
       "      <td>0.2331</td>\n",
       "      <td>0.0394</td>\n",
       "      <td>0.1455</td>\n",
       "      <td>0.0444</td>\n",
       "      <td>...</td>\n",
       "      <td>0.4466</td>\n",
       "      <td>4.0244</td>\n",
       "      <td>37.0314</td>\n",
       "      <td>167</td>\n",
       "      <td>NaN</td>\n",
       "      <td>1.227204</td>\n",
       "      <td>sa</td>\n",
       "      <td>3</td>\n",
       "      <td>2004-02-02</td>\n",
       "      <td>7 days</td>\n",
       "    </tr>\n",
       "    <tr>\n",
       "      <th>2</th>\n",
       "      <td>CON186</td>\n",
       "      <td>2003-07-01</td>\n",
       "      <td>2003-07-08</td>\n",
       "      <td>1.5335</td>\n",
       "      <td>1.2570</td>\n",
       "      <td>0.4836</td>\n",
       "      <td>0.2185</td>\n",
       "      <td>0.0759</td>\n",
       "      <td>0.3440</td>\n",
       "      <td>0.1697</td>\n",
       "      <td>...</td>\n",
       "      <td>0.5684</td>\n",
       "      <td>5.7479</td>\n",
       "      <td>37.9842</td>\n",
       "      <td>171</td>\n",
       "      <td>NaN</td>\n",
       "      <td>1.228530</td>\n",
       "      <td>sa</td>\n",
       "      <td>3</td>\n",
       "      <td>2004-02-02</td>\n",
       "      <td>7 days</td>\n",
       "    </tr>\n",
       "    <tr>\n",
       "      <th>3</th>\n",
       "      <td>CON186</td>\n",
       "      <td>2003-07-08</td>\n",
       "      <td>2003-07-15</td>\n",
       "      <td>1.7773</td>\n",
       "      <td>0.8323</td>\n",
       "      <td>0.6537</td>\n",
       "      <td>0.2894</td>\n",
       "      <td>0.0541</td>\n",
       "      <td>0.2134</td>\n",
       "      <td>0.0850</td>\n",
       "      <td>...</td>\n",
       "      <td>0.4510</td>\n",
       "      <td>5.0664</td>\n",
       "      <td>37.3987</td>\n",
       "      <td>166</td>\n",
       "      <td>NaN</td>\n",
       "      <td>1.245875</td>\n",
       "      <td>sa</td>\n",
       "      <td>3</td>\n",
       "      <td>2004-02-02</td>\n",
       "      <td>7 days</td>\n",
       "    </tr>\n",
       "    <tr>\n",
       "      <th>4</th>\n",
       "      <td>CON186</td>\n",
       "      <td>2003-07-15</td>\n",
       "      <td>2003-07-22</td>\n",
       "      <td>2.1637</td>\n",
       "      <td>1.3187</td>\n",
       "      <td>0.7899</td>\n",
       "      <td>0.4331</td>\n",
       "      <td>0.0800</td>\n",
       "      <td>0.2679</td>\n",
       "      <td>0.1382</td>\n",
       "      <td>...</td>\n",
       "      <td>0.7512</td>\n",
       "      <td>5.5863</td>\n",
       "      <td>37.1449</td>\n",
       "      <td>166</td>\n",
       "      <td>NaN</td>\n",
       "      <td>1.237604</td>\n",
       "      <td>sa</td>\n",
       "      <td>3</td>\n",
       "      <td>2004-02-02</td>\n",
       "      <td>7 days</td>\n",
       "    </tr>\n",
       "  </tbody>\n",
       "</table>\n",
       "<p>5 rows × 24 columns</p>\n",
       "</div>"
      ],
      "text/plain": [
       "  SITE_ID     DATEON    DATEOFF    TSO4    TNO3    TNH4      Ca      Mg  \\\n",
       "0  CON186 2003-06-17 2003-06-24  1.6460  2.6535  1.0740  0.1625  0.0440   \n",
       "1  CON186 2003-06-24 2003-07-01  1.0356  0.6297  0.4035  0.2331  0.0394   \n",
       "2  CON186 2003-07-01 2003-07-08  1.5335  1.2570  0.4836  0.2185  0.0759   \n",
       "3  CON186 2003-07-08 2003-07-15  1.7773  0.8323  0.6537  0.2894  0.0541   \n",
       "4  CON186 2003-07-15 2003-07-22  2.1637  1.3187  0.7899  0.4331  0.0800   \n",
       "\n",
       "       Na       K  ...  TOTAL_SO2  TOTAL_NO3  FLOW_VOLUME  VALID_HOURS  \\\n",
       "0  0.1980  0.0609  ...     0.3544     6.0754      36.2704          168   \n",
       "1  0.1455  0.0444  ...     0.4466     4.0244      37.0314          167   \n",
       "2  0.3440  0.1697  ...     0.5684     5.7479      37.9842          171   \n",
       "3  0.2134  0.0850  ...     0.4510     5.0664      37.3987          166   \n",
       "4  0.2679  0.1382  ...     0.7512     5.5863      37.1449          166   \n",
       "\n",
       "   COMMENT_CODES  STD2LOCAL_CF  TEMP_SOURCE  QA_CODE UPDATE_DATE  DURATION  \n",
       "0            NaN      1.196241           sa        3  2004-02-02    7 days  \n",
       "1            NaN      1.227204           sa        3  2004-02-02    7 days  \n",
       "2            NaN      1.228530           sa        3  2004-02-02    7 days  \n",
       "3            NaN      1.245875           sa        3  2004-02-02    7 days  \n",
       "4            NaN      1.237604           sa        3  2004-02-02    7 days  \n",
       "\n",
       "[5 rows x 24 columns]"
      ]
     },
     "execution_count": 501,
     "metadata": {},
     "output_type": "execute_result"
    }
   ],
   "source": [
    "air_status.head()"
   ]
  },
  {
   "cell_type": "code",
   "execution_count": 502,
   "metadata": {},
   "outputs": [],
   "source": [
    "air_status['DATE_CHECK']=air_status['DATEON']>air_status[\"DATEOFF\"]"
   ]
  },
  {
   "cell_type": "code",
   "execution_count": 503,
   "metadata": {},
   "outputs": [
    {
     "data": {
      "text/plain": [
       "0"
      ]
     },
     "execution_count": 503,
     "metadata": {},
     "output_type": "execute_result"
    }
   ],
   "source": [
    "sum(air_status[\"DATE_CHECK\"])"
   ]
  },
  {
   "cell_type": "code",
   "execution_count": 504,
   "metadata": {},
   "outputs": [
    {
     "data": {
      "text/plain": [
       "array(['CON186', 'DEV412', 'JOT403', 'LAV410', 'PIN414', 'SEK402',\n",
       "       'SEK430', 'YOS404'], dtype=object)"
      ]
     },
     "execution_count": 504,
     "metadata": {},
     "output_type": "execute_result"
    }
   ],
   "source": [
    "air_status['SITE_ID'].unique()"
   ]
  },
  {
   "cell_type": "code",
   "execution_count": 505,
   "metadata": {},
   "outputs": [],
   "source": [
    "air_status['TOTAL_NO3_TEST']=air_status['TNO3']+0.9841*air_status['NHNO3']"
   ]
  },
  {
   "cell_type": "code",
   "execution_count": 506,
   "metadata": {},
   "outputs": [],
   "source": [
    "air_status['TOTAL_SO2_TEST']=air_status['WSO2']*air_status['NSO4']*0.667-air_status['TOTAL_SO2']"
   ]
  },
  {
   "cell_type": "code",
   "execution_count": 507,
   "metadata": {},
   "outputs": [
    {
     "data": {
      "text/plain": [
       "<matplotlib.axes._subplots.AxesSubplot at 0x7efc649d9eb8>"
      ]
     },
     "execution_count": 507,
     "metadata": {},
     "output_type": "execute_result"
    },
    {
     "data": {
      "image/png": "[encoded data removed]",
      "text/plain": [
       "<Figure size 432x288 with 1 Axes>"
      ]
     },
     "metadata": {
      "needs_background": "light"
     },
     "output_type": "display_data"
    }
   ],
   "source": [
    "air_status['TOTAL_SO2_TEST'].hist()"
   ]
  },
  {
   "cell_type": "code",
   "execution_count": 508,
   "metadata": {},
   "outputs": [],
   "source": [
    "air_status['TOTAL_NO3_TEST']=air_status['TOTAL_NO3_TEST']-air_status['TOTAL_NO3']"
   ]
  },
  {
   "cell_type": "code",
   "execution_count": 509,
   "metadata": {},
   "outputs": [
    {
     "data": {
      "text/plain": [
       "<matplotlib.axes._subplots.AxesSubplot at 0x7efc64843390>"
      ]
     },
     "execution_count": 509,
     "metadata": {},
     "output_type": "execute_result"
    },
    {
     "data": {
      "image/png": "[encoded data removed]",
      "text/plain": [
       "<Figure size 432x288 with 1 Axes>"
      ]
     },
     "metadata": {
      "needs_background": "light"
     },
     "output_type": "display_data"
    }
   ],
   "source": [
    "air_status['TOTAL_NO3_TEST'].hist()"
   ]
  },
  {
   "cell_type": "raw",
   "metadata": {},
   "source": [
    "test['TOTAL_SO2_TEST'].mean()"
   ]
  },
  {
   "cell_type": "code",
   "execution_count": 510,
   "metadata": {},
   "outputs": [],
   "source": [
    "#Lots of variation, suggest using 'TOTAL_SO2_TEST' instead"
   ]
  },
  {
   "cell_type": "code",
   "execution_count": 511,
   "metadata": {},
   "outputs": [],
   "source": [
    "test_key_fields=['TSO4','TNO3','TNH4','Ca','Mg','Na','K','Cl','NSO4','NHNO3','WSO2','TOTAL_SO2','TOTAL_NO3','FLOW_VOLUME']"
   ]
  },
  {
   "cell_type": "code",
   "execution_count": 512,
   "metadata": {},
   "outputs": [],
   "source": [
    "#Lots of variation, suggest using 'TOTAL_SO2_TEST' instead"
   ]
  },
  {
   "cell_type": "code",
   "execution_count": 513,
   "metadata": {},
   "outputs": [
    {
     "data": {
      "text/html": [
       "<div>\n",
       "<style scoped>\n",
       "    .dataframe tbody tr th:only-of-type {\n",
       "        vertical-align: middle;\n",
       "    }\n",
       "\n",
       "    .dataframe tbody tr th {\n",
       "        vertical-align: top;\n",
       "    }\n",
       "\n",
       "    .dataframe thead th {\n",
       "        text-align: right;\n",
       "    }\n",
       "</style>\n",
       "<table border=\"1\" class=\"dataframe\">\n",
       "  <thead>\n",
       "    <tr style=\"text-align: right;\">\n",
       "      <th></th>\n",
       "      <th>SITE_ID</th>\n",
       "      <th>location</th>\n",
       "    </tr>\n",
       "  </thead>\n",
       "  <tbody>\n",
       "    <tr>\n",
       "      <th>0</th>\n",
       "      <td>PIN414</td>\n",
       "      <td>Pinnacles NM</td>\n",
       "    </tr>\n",
       "    <tr>\n",
       "      <th>1</th>\n",
       "      <td>SEK430</td>\n",
       "      <td>Sequoia NP - Ash Mountain</td>\n",
       "    </tr>\n",
       "    <tr>\n",
       "      <th>2</th>\n",
       "      <td>DEV412</td>\n",
       "      <td>Death Valley NM</td>\n",
       "    </tr>\n",
       "    <tr>\n",
       "      <th>3</th>\n",
       "      <td>SEK402</td>\n",
       "      <td>Sequoia NP - Lookout Pt</td>\n",
       "    </tr>\n",
       "    <tr>\n",
       "      <th>4</th>\n",
       "      <td>JOT403</td>\n",
       "      <td>Joshua Tree NP</td>\n",
       "    </tr>\n",
       "  </tbody>\n",
       "</table>\n",
       "</div>"
      ],
      "text/plain": [
       "  SITE_ID                    location\n",
       "0  PIN414                Pinnacles NM\n",
       "1  SEK430   Sequoia NP - Ash Mountain\n",
       "2  DEV412             Death Valley NM\n",
       "3  SEK402     Sequoia NP - Lookout Pt\n",
       "4  JOT403              Joshua Tree NP"
      ]
     },
     "execution_count": 513,
     "metadata": {},
     "output_type": "execute_result"
    }
   ],
   "source": [
    "site.head()"
   ]
  },
  {
   "cell_type": "code",
   "execution_count": 514,
   "metadata": {},
   "outputs": [
    {
     "data": {
      "text/plain": [
       "996"
      ]
     },
     "execution_count": 514,
     "metadata": {},
     "output_type": "execute_result"
    }
   ],
   "source": [
    "len(test)"
   ]
  },
  {
   "cell_type": "code",
   "execution_count": 515,
   "metadata": {},
   "outputs": [],
   "source": [
    "test=test.merge(site,on='SITE_ID')"
   ]
  },
  {
   "cell_type": "code",
   "execution_count": 516,
   "metadata": {},
   "outputs": [
    {
     "data": {
      "text/plain": [
       "996"
      ]
     },
     "execution_count": 516,
     "metadata": {},
     "output_type": "execute_result"
    }
   ],
   "source": [
    "len(test) #Check if we lost any records - no, in this case"
   ]
  },
  {
   "cell_type": "code",
   "execution_count": 517,
   "metadata": {},
   "outputs": [],
   "source": [
    "test.rename({' location':'location'},inplace=True,axis='columns')"
   ]
  },
  {
   "cell_type": "code",
   "execution_count": 518,
   "metadata": {},
   "outputs": [
    {
     "data": {
      "text/plain": [
       "Index(['SITE_ID', 'DATEON', 'DATEOFF', 'TSO4', 'TNO3', 'TNH4', 'Ca', 'Mg',\n",
       "       'Na', 'K', 'Cl', 'NSO4', 'NHNO3', 'WSO2', 'TOTAL_SO2', 'FLOW_VOLUME',\n",
       "       'VALID_HOURS', 'COMMENT_CODES', 'STD2LOCAL_CF', 'TEMP_SOURCE',\n",
       "       'QA_CODE', 'UPDATE_DATE', 'DURATION', 'DATE_CHECK', 'TOTAL_NO3',\n",
       "       'TOTAL_SO2_TEST', 'location'],\n",
       "      dtype='object')"
      ]
     },
     "execution_count": 518,
     "metadata": {},
     "output_type": "execute_result"
    }
   ],
   "source": [
    "test.columns"
   ]
  },
  {
   "cell_type": "code",
   "execution_count": 519,
   "metadata": {},
   "outputs": [
    {
     "data": {
      "text/html": [
       "<div>\n",
       "<style scoped>\n",
       "    .dataframe tbody tr th:only-of-type {\n",
       "        vertical-align: middle;\n",
       "    }\n",
       "\n",
       "    .dataframe tbody tr th {\n",
       "        vertical-align: top;\n",
       "    }\n",
       "\n",
       "    .dataframe thead th {\n",
       "        text-align: right;\n",
       "    }\n",
       "</style>\n",
       "<table border=\"1\" class=\"dataframe\">\n",
       "  <thead>\n",
       "    <tr style=\"text-align: right;\">\n",
       "      <th></th>\n",
       "      <th>SITE_ID</th>\n",
       "      <th>DATEON</th>\n",
       "      <th>DATEOFF</th>\n",
       "      <th>TSO4</th>\n",
       "      <th>TNO3</th>\n",
       "      <th>TNH4</th>\n",
       "      <th>Ca</th>\n",
       "      <th>Mg</th>\n",
       "      <th>Na</th>\n",
       "      <th>K</th>\n",
       "      <th>...</th>\n",
       "      <th>COMMENT_CODES</th>\n",
       "      <th>STD2LOCAL_CF</th>\n",
       "      <th>TEMP_SOURCE</th>\n",
       "      <th>QA_CODE</th>\n",
       "      <th>UPDATE_DATE</th>\n",
       "      <th>DURATION</th>\n",
       "      <th>DATE_CHECK</th>\n",
       "      <th>TOTAL_NO3</th>\n",
       "      <th>TOTAL_SO2_TEST</th>\n",
       "      <th>location</th>\n",
       "    </tr>\n",
       "  </thead>\n",
       "  <tbody>\n",
       "    <tr>\n",
       "      <th>0</th>\n",
       "      <td>CON186</td>\n",
       "      <td>2003-08-26</td>\n",
       "      <td>2003-09-02</td>\n",
       "      <td>2.0949</td>\n",
       "      <td>1.3105</td>\n",
       "      <td>0.6974</td>\n",
       "      <td>0.3210</td>\n",
       "      <td>0.0709</td>\n",
       "      <td>0.2831</td>\n",
       "      <td>0.0703</td>\n",
       "      <td>...</td>\n",
       "      <td>T4</td>\n",
       "      <td>1.228750</td>\n",
       "      <td>sa</td>\n",
       "      <td>3</td>\n",
       "      <td>2004-02-02</td>\n",
       "      <td>7 days</td>\n",
       "      <td>False</td>\n",
       "      <td>7.268045</td>\n",
       "      <td>-0.741458</td>\n",
       "      <td>Converse Station</td>\n",
       "    </tr>\n",
       "    <tr>\n",
       "      <th>1</th>\n",
       "      <td>CON186</td>\n",
       "      <td>2004-04-27</td>\n",
       "      <td>2004-05-11</td>\n",
       "      <td>1.5278</td>\n",
       "      <td>1.8541</td>\n",
       "      <td>0.3870</td>\n",
       "      <td>0.5010</td>\n",
       "      <td>0.1011</td>\n",
       "      <td>0.3582</td>\n",
       "      <td>0.0891</td>\n",
       "      <td>...</td>\n",
       "      <td>G12</td>\n",
       "      <td>1.203630</td>\n",
       "      <td>sa</td>\n",
       "      <td>3</td>\n",
       "      <td>2008-07-18</td>\n",
       "      <td>14 days</td>\n",
       "      <td>False</td>\n",
       "      <td>4.015085</td>\n",
       "      <td>-0.507751</td>\n",
       "      <td>Converse Station</td>\n",
       "    </tr>\n",
       "    <tr>\n",
       "      <th>2</th>\n",
       "      <td>CON186</td>\n",
       "      <td>2004-07-27</td>\n",
       "      <td>2004-08-03</td>\n",
       "      <td>1.4690</td>\n",
       "      <td>0.9887</td>\n",
       "      <td>0.5858</td>\n",
       "      <td>0.2767</td>\n",
       "      <td>0.0468</td>\n",
       "      <td>0.1600</td>\n",
       "      <td>0.0574</td>\n",
       "      <td>...</td>\n",
       "      <td>T01</td>\n",
       "      <td>1.225983</td>\n",
       "      <td>sa</td>\n",
       "      <td>3</td>\n",
       "      <td>2008-07-18</td>\n",
       "      <td>7 days</td>\n",
       "      <td>False</td>\n",
       "      <td>5.217181</td>\n",
       "      <td>-0.381535</td>\n",
       "      <td>Converse Station</td>\n",
       "    </tr>\n",
       "    <tr>\n",
       "      <th>3</th>\n",
       "      <td>CON186</td>\n",
       "      <td>2007-12-18</td>\n",
       "      <td>2007-12-24</td>\n",
       "      <td>0.2642</td>\n",
       "      <td>0.1826</td>\n",
       "      <td>0.0745</td>\n",
       "      <td>0.0610</td>\n",
       "      <td>0.0174</td>\n",
       "      <td>0.0445</td>\n",
       "      <td>0.0113</td>\n",
       "      <td>...</td>\n",
       "      <td>G12</td>\n",
       "      <td>1.161903</td>\n",
       "      <td>sa</td>\n",
       "      <td>3</td>\n",
       "      <td>2008-07-18</td>\n",
       "      <td>6 days</td>\n",
       "      <td>False</td>\n",
       "      <td>0.629677</td>\n",
       "      <td>-0.143764</td>\n",
       "      <td>Converse Station</td>\n",
       "    </tr>\n",
       "    <tr>\n",
       "      <th>4</th>\n",
       "      <td>CON186</td>\n",
       "      <td>2010-10-12</td>\n",
       "      <td>2010-10-19</td>\n",
       "      <td>1.0408</td>\n",
       "      <td>0.3775</td>\n",
       "      <td>0.3726</td>\n",
       "      <td>0.1786</td>\n",
       "      <td>0.0273</td>\n",
       "      <td>0.0556</td>\n",
       "      <td>0.0357</td>\n",
       "      <td>...</td>\n",
       "      <td>T01</td>\n",
       "      <td>1.207224</td>\n",
       "      <td>sa</td>\n",
       "      <td>3</td>\n",
       "      <td>2011-01-31</td>\n",
       "      <td>7 days</td>\n",
       "      <td>False</td>\n",
       "      <td>0.995220</td>\n",
       "      <td>-0.224117</td>\n",
       "      <td>Converse Station</td>\n",
       "    </tr>\n",
       "  </tbody>\n",
       "</table>\n",
       "<p>5 rows × 27 columns</p>\n",
       "</div>"
      ],
      "text/plain": [
       "  SITE_ID     DATEON    DATEOFF    TSO4    TNO3    TNH4      Ca      Mg  \\\n",
       "0  CON186 2003-08-26 2003-09-02  2.0949  1.3105  0.6974  0.3210  0.0709   \n",
       "1  CON186 2004-04-27 2004-05-11  1.5278  1.8541  0.3870  0.5010  0.1011   \n",
       "2  CON186 2004-07-27 2004-08-03  1.4690  0.9887  0.5858  0.2767  0.0468   \n",
       "3  CON186 2007-12-18 2007-12-24  0.2642  0.1826  0.0745  0.0610  0.0174   \n",
       "4  CON186 2010-10-12 2010-10-19  1.0408  0.3775  0.3726  0.1786  0.0273   \n",
       "\n",
       "       Na       K  ...  COMMENT_CODES  STD2LOCAL_CF  TEMP_SOURCE  QA_CODE  \\\n",
       "0  0.2831  0.0703  ...             T4      1.228750           sa        3   \n",
       "1  0.3582  0.0891  ...            G12      1.203630           sa        3   \n",
       "2  0.1600  0.0574  ...            T01      1.225983           sa        3   \n",
       "3  0.0445  0.0113  ...            G12      1.161903           sa        3   \n",
       "4  0.0556  0.0357  ...            T01      1.207224           sa        3   \n",
       "\n",
       "   UPDATE_DATE  DURATION  DATE_CHECK TOTAL_NO3  TOTAL_SO2_TEST  \\\n",
       "0   2004-02-02    7 days       False  7.268045       -0.741458   \n",
       "1   2008-07-18   14 days       False  4.015085       -0.507751   \n",
       "2   2008-07-18    7 days       False  5.217181       -0.381535   \n",
       "3   2008-07-18    6 days       False  0.629677       -0.143764   \n",
       "4   2011-01-31    7 days       False  0.995220       -0.224117   \n",
       "\n",
       "            location  \n",
       "0   Converse Station  \n",
       "1   Converse Station  \n",
       "2   Converse Station  \n",
       "3   Converse Station  \n",
       "4   Converse Station  \n",
       "\n",
       "[5 rows x 27 columns]"
      ]
     },
     "execution_count": 519,
     "metadata": {},
     "output_type": "execute_result"
    }
   ],
   "source": [
    "test.head()"
   ]
  },
  {
   "cell_type": "code",
   "execution_count": 520,
   "metadata": {},
   "outputs": [
    {
     "data": {
      "text/plain": [
       "array([' Converse Station', ' Death Valley NM', ' Joshua Tree NP',\n",
       "       ' Lassen Volcanic NP', ' Pinnacles NM', ' Sequoia NP - Lookout Pt',\n",
       "       ' Sequoia NP - Ash Mountain', ' Yosemite NP - Turtleback Dome'],\n",
       "      dtype=object)"
      ]
     },
     "execution_count": 520,
     "metadata": {},
     "output_type": "execute_result"
    }
   ],
   "source": [
    "test['location'].unique()"
   ]
  },
  {
   "cell_type": "code",
   "execution_count": 521,
   "metadata": {},
   "outputs": [
    {
     "data": {
      "text/html": [
       "<div>\n",
       "<style scoped>\n",
       "    .dataframe tbody tr th:only-of-type {\n",
       "        vertical-align: middle;\n",
       "    }\n",
       "\n",
       "    .dataframe tbody tr th {\n",
       "        vertical-align: top;\n",
       "    }\n",
       "\n",
       "    .dataframe thead th {\n",
       "        text-align: right;\n",
       "    }\n",
       "</style>\n",
       "<table border=\"1\" class=\"dataframe\">\n",
       "  <thead>\n",
       "    <tr style=\"text-align: right;\">\n",
       "      <th></th>\n",
       "      <th>COLUMN_NAME</th>\n",
       "      <th>UNIT</th>\n",
       "      <th>DATA_TYPE</th>\n",
       "      <th>DESCRIPTION</th>\n",
       "    </tr>\n",
       "  </thead>\n",
       "  <tbody>\n",
       "    <tr>\n",
       "      <th>0</th>\n",
       "      <td>SITE_ID</td>\n",
       "      <td>NaN</td>\n",
       "      <td>CHAR</td>\n",
       "      <td>Site identification code. See the file site.cs...</td>\n",
       "    </tr>\n",
       "    <tr>\n",
       "      <th>1</th>\n",
       "      <td>DATEON</td>\n",
       "      <td>NaN</td>\n",
       "      <td>DATE</td>\n",
       "      <td>Date the sample collection began, Local Standa...</td>\n",
       "    </tr>\n",
       "    <tr>\n",
       "      <th>2</th>\n",
       "      <td>DATEOFF</td>\n",
       "      <td>NaN</td>\n",
       "      <td>DATE</td>\n",
       "      <td>Date the sample collection ended, Local Standa...</td>\n",
       "    </tr>\n",
       "    <tr>\n",
       "      <th>3</th>\n",
       "      <td>TSO4</td>\n",
       "      <td>ug/m^3</td>\n",
       "      <td>NUMBER</td>\n",
       "      <td>Sulfate (SO4) concentration from Teflon filter...</td>\n",
       "    </tr>\n",
       "    <tr>\n",
       "      <th>4</th>\n",
       "      <td>TNO3</td>\n",
       "      <td>ug/m^3</td>\n",
       "      <td>NUMBER</td>\n",
       "      <td>Nitrate (NO3) concentration from Teflon filter...</td>\n",
       "    </tr>\n",
       "  </tbody>\n",
       "</table>\n",
       "</div>"
      ],
      "text/plain": [
       "  COLUMN_NAME    UNIT DATA_TYPE  \\\n",
       "0     SITE_ID     NaN      CHAR   \n",
       "1      DATEON     NaN      DATE   \n",
       "2     DATEOFF     NaN      DATE   \n",
       "3        TSO4  ug/m^3    NUMBER   \n",
       "4        TNO3  ug/m^3    NUMBER   \n",
       "\n",
       "                                         DESCRIPTION  \n",
       "0  Site identification code. See the file site.cs...  \n",
       "1  Date the sample collection began, Local Standa...  \n",
       "2  Date the sample collection ended, Local Standa...  \n",
       "3  Sulfate (SO4) concentration from Teflon filter...  \n",
       "4  Nitrate (NO3) concentration from Teflon filter...  "
      ]
     },
     "execution_count": 521,
     "metadata": {},
     "output_type": "execute_result"
    }
   ],
   "source": [
    "data_dictionary.head()"
   ]
  },
  {
   "cell_type": "code",
   "execution_count": 522,
   "metadata": {},
   "outputs": [
    {
     "data": {
      "text/html": [
       "<div>\n",
       "<style scoped>\n",
       "    .dataframe tbody tr th:only-of-type {\n",
       "        vertical-align: middle;\n",
       "    }\n",
       "\n",
       "    .dataframe tbody tr th {\n",
       "        vertical-align: top;\n",
       "    }\n",
       "\n",
       "    .dataframe thead th {\n",
       "        text-align: right;\n",
       "    }\n",
       "</style>\n",
       "<table border=\"1\" class=\"dataframe\">\n",
       "  <thead>\n",
       "    <tr style=\"text-align: right;\">\n",
       "      <th></th>\n",
       "      <th>COLUMN_NAME</th>\n",
       "      <th>CODE</th>\n",
       "      <th>DESCRIPTION</th>\n",
       "      <th>VALID</th>\n",
       "    </tr>\n",
       "  </thead>\n",
       "  <tbody>\n",
       "    <tr>\n",
       "      <th>0</th>\n",
       "      <td>%_F</td>\n",
       "      <td>!</td>\n",
       "      <td>X and U apply</td>\n",
       "      <td>V</td>\n",
       "    </tr>\n",
       "    <tr>\n",
       "      <th>1</th>\n",
       "      <td>%_F</td>\n",
       "      <td>#</td>\n",
       "      <td>Both U and L flags apply</td>\n",
       "      <td>V</td>\n",
       "    </tr>\n",
       "    <tr>\n",
       "      <th>2</th>\n",
       "      <td>%_F</td>\n",
       "      <td>$</td>\n",
       "      <td>L and U apply</td>\n",
       "      <td>V</td>\n",
       "    </tr>\n",
       "    <tr>\n",
       "      <th>3</th>\n",
       "      <td>%_F</td>\n",
       "      <td>&amp;</td>\n",
       "      <td>Ambient concentration data measured/collected ...</td>\n",
       "      <td>V</td>\n",
       "    </tr>\n",
       "    <tr>\n",
       "      <th>4</th>\n",
       "      <td>%_F</td>\n",
       "      <td>&lt;</td>\n",
       "      <td>Missing &lt; 25% of hourly sampling period</td>\n",
       "      <td>V</td>\n",
       "    </tr>\n",
       "  </tbody>\n",
       "</table>\n",
       "</div>"
      ],
      "text/plain": [
       "  COLUMN_NAME CODE                                        DESCRIPTION VALID\n",
       "0         %_F    !                                      X and U apply     V\n",
       "1         %_F    #                           Both U and L flags apply     V\n",
       "2         %_F    $                                      L and U apply     V\n",
       "3         %_F    &  Ambient concentration data measured/collected ...     V\n",
       "4         %_F    <            Missing < 25% of hourly sampling period     V"
      ]
     },
     "execution_count": 522,
     "metadata": {},
     "output_type": "execute_result"
    }
   ],
   "source": [
    "codes.head()"
   ]
  },
  {
   "cell_type": "code",
   "execution_count": 523,
   "metadata": {},
   "outputs": [
    {
     "data": {
      "text/html": [
       "<div>\n",
       "<style scoped>\n",
       "    .dataframe tbody tr th:only-of-type {\n",
       "        vertical-align: middle;\n",
       "    }\n",
       "\n",
       "    .dataframe tbody tr th {\n",
       "        vertical-align: top;\n",
       "    }\n",
       "\n",
       "    .dataframe thead th {\n",
       "        text-align: right;\n",
       "    }\n",
       "</style>\n",
       "<table border=\"1\" class=\"dataframe\">\n",
       "  <thead>\n",
       "    <tr style=\"text-align: right;\">\n",
       "      <th></th>\n",
       "      <th>SITE_ID</th>\n",
       "      <th>DATEON</th>\n",
       "      <th>DATEOFF</th>\n",
       "      <th>TSO4</th>\n",
       "      <th>TNO3</th>\n",
       "      <th>TNH4</th>\n",
       "      <th>Ca</th>\n",
       "      <th>Mg</th>\n",
       "      <th>Na</th>\n",
       "      <th>K</th>\n",
       "      <th>...</th>\n",
       "      <th>VALID_HOURS</th>\n",
       "      <th>COMMENT_CODES</th>\n",
       "      <th>STD2LOCAL_CF</th>\n",
       "      <th>TEMP_SOURCE</th>\n",
       "      <th>QA_CODE</th>\n",
       "      <th>UPDATE_DATE</th>\n",
       "      <th>DURATION</th>\n",
       "      <th>DATE_CHECK</th>\n",
       "      <th>TOTAL_NO3_TEST</th>\n",
       "      <th>TOTAL_SO2_TEST</th>\n",
       "    </tr>\n",
       "  </thead>\n",
       "  <tbody>\n",
       "    <tr>\n",
       "      <th>0</th>\n",
       "      <td>CON186</td>\n",
       "      <td>2003-06-17</td>\n",
       "      <td>2003-06-24</td>\n",
       "      <td>1.6460</td>\n",
       "      <td>2.6535</td>\n",
       "      <td>1.0740</td>\n",
       "      <td>0.1625</td>\n",
       "      <td>0.0440</td>\n",
       "      <td>0.1980</td>\n",
       "      <td>0.0609</td>\n",
       "      <td>...</td>\n",
       "      <td>168</td>\n",
       "      <td>NaN</td>\n",
       "      <td>1.196241</td>\n",
       "      <td>sa</td>\n",
       "      <td>3</td>\n",
       "      <td>2004-02-02</td>\n",
       "      <td>7 days</td>\n",
       "      <td>False</td>\n",
       "      <td>0.000013</td>\n",
       "      <td>-0.345918</td>\n",
       "    </tr>\n",
       "    <tr>\n",
       "      <th>1</th>\n",
       "      <td>CON186</td>\n",
       "      <td>2003-06-24</td>\n",
       "      <td>2003-07-01</td>\n",
       "      <td>1.0356</td>\n",
       "      <td>0.6297</td>\n",
       "      <td>0.4035</td>\n",
       "      <td>0.2331</td>\n",
       "      <td>0.0394</td>\n",
       "      <td>0.1455</td>\n",
       "      <td>0.0444</td>\n",
       "      <td>...</td>\n",
       "      <td>167</td>\n",
       "      <td>NaN</td>\n",
       "      <td>1.227204</td>\n",
       "      <td>sa</td>\n",
       "      <td>3</td>\n",
       "      <td>2004-02-02</td>\n",
       "      <td>7 days</td>\n",
       "      <td>False</td>\n",
       "      <td>0.000051</td>\n",
       "      <td>-0.429916</td>\n",
       "    </tr>\n",
       "    <tr>\n",
       "      <th>2</th>\n",
       "      <td>CON186</td>\n",
       "      <td>2003-07-01</td>\n",
       "      <td>2003-07-08</td>\n",
       "      <td>1.5335</td>\n",
       "      <td>1.2570</td>\n",
       "      <td>0.4836</td>\n",
       "      <td>0.2185</td>\n",
       "      <td>0.0759</td>\n",
       "      <td>0.3440</td>\n",
       "      <td>0.1697</td>\n",
       "      <td>...</td>\n",
       "      <td>171</td>\n",
       "      <td>NaN</td>\n",
       "      <td>1.228530</td>\n",
       "      <td>sa</td>\n",
       "      <td>3</td>\n",
       "      <td>2004-02-02</td>\n",
       "      <td>7 days</td>\n",
       "      <td>False</td>\n",
       "      <td>0.000040</td>\n",
       "      <td>-0.539480</td>\n",
       "    </tr>\n",
       "    <tr>\n",
       "      <th>3</th>\n",
       "      <td>CON186</td>\n",
       "      <td>2003-07-08</td>\n",
       "      <td>2003-07-15</td>\n",
       "      <td>1.7773</td>\n",
       "      <td>0.8323</td>\n",
       "      <td>0.6537</td>\n",
       "      <td>0.2894</td>\n",
       "      <td>0.0541</td>\n",
       "      <td>0.2134</td>\n",
       "      <td>0.0850</td>\n",
       "      <td>...</td>\n",
       "      <td>166</td>\n",
       "      <td>NaN</td>\n",
       "      <td>1.245875</td>\n",
       "      <td>sa</td>\n",
       "      <td>3</td>\n",
       "      <td>2004-02-02</td>\n",
       "      <td>7 days</td>\n",
       "      <td>False</td>\n",
       "      <td>-0.000010</td>\n",
       "      <td>-0.436177</td>\n",
       "    </tr>\n",
       "    <tr>\n",
       "      <th>4</th>\n",
       "      <td>CON186</td>\n",
       "      <td>2003-07-15</td>\n",
       "      <td>2003-07-22</td>\n",
       "      <td>2.1637</td>\n",
       "      <td>1.3187</td>\n",
       "      <td>0.7899</td>\n",
       "      <td>0.4331</td>\n",
       "      <td>0.0800</td>\n",
       "      <td>0.2679</td>\n",
       "      <td>0.1382</td>\n",
       "      <td>...</td>\n",
       "      <td>166</td>\n",
       "      <td>NaN</td>\n",
       "      <td>1.237604</td>\n",
       "      <td>sa</td>\n",
       "      <td>3</td>\n",
       "      <td>2004-02-02</td>\n",
       "      <td>7 days</td>\n",
       "      <td>False</td>\n",
       "      <td>-0.000050</td>\n",
       "      <td>-0.709581</td>\n",
       "    </tr>\n",
       "  </tbody>\n",
       "</table>\n",
       "<p>5 rows × 27 columns</p>\n",
       "</div>"
      ],
      "text/plain": [
       "  SITE_ID     DATEON    DATEOFF    TSO4    TNO3    TNH4      Ca      Mg  \\\n",
       "0  CON186 2003-06-17 2003-06-24  1.6460  2.6535  1.0740  0.1625  0.0440   \n",
       "1  CON186 2003-06-24 2003-07-01  1.0356  0.6297  0.4035  0.2331  0.0394   \n",
       "2  CON186 2003-07-01 2003-07-08  1.5335  1.2570  0.4836  0.2185  0.0759   \n",
       "3  CON186 2003-07-08 2003-07-15  1.7773  0.8323  0.6537  0.2894  0.0541   \n",
       "4  CON186 2003-07-15 2003-07-22  2.1637  1.3187  0.7899  0.4331  0.0800   \n",
       "\n",
       "       Na       K  ...  VALID_HOURS  COMMENT_CODES  STD2LOCAL_CF  TEMP_SOURCE  \\\n",
       "0  0.1980  0.0609  ...          168            NaN      1.196241           sa   \n",
       "1  0.1455  0.0444  ...          167            NaN      1.227204           sa   \n",
       "2  0.3440  0.1697  ...          171            NaN      1.228530           sa   \n",
       "3  0.2134  0.0850  ...          166            NaN      1.245875           sa   \n",
       "4  0.2679  0.1382  ...          166            NaN      1.237604           sa   \n",
       "\n",
       "   QA_CODE  UPDATE_DATE  DURATION  DATE_CHECK TOTAL_NO3_TEST  TOTAL_SO2_TEST  \n",
       "0        3   2004-02-02    7 days       False       0.000013       -0.345918  \n",
       "1        3   2004-02-02    7 days       False       0.000051       -0.429916  \n",
       "2        3   2004-02-02    7 days       False       0.000040       -0.539480  \n",
       "3        3   2004-02-02    7 days       False      -0.000010       -0.436177  \n",
       "4        3   2004-02-02    7 days       False      -0.000050       -0.709581  \n",
       "\n",
       "[5 rows x 27 columns]"
      ]
     },
     "execution_count": 523,
     "metadata": {},
     "output_type": "execute_result"
    }
   ],
   "source": [
    "air_status.head()"
   ]
  },
  {
   "cell_type": "raw",
   "metadata": {},
   "source": [
    "sns.pairplot(air_status[test_key_fields])"
   ]
  },
  {
   "cell_type": "code",
   "execution_count": 524,
   "metadata": {},
   "outputs": [],
   "source": [
    "corr=air_status[test_key_fields].corr()"
   ]
  },
  {
   "cell_type": "code",
   "execution_count": 525,
   "metadata": {},
   "outputs": [
    {
     "data": {
      "text/plain": [
       "<matplotlib.axes._subplots.AxesSubplot at 0x7efc648c9390>"
      ]
     },
     "execution_count": 525,
     "metadata": {},
     "output_type": "execute_result"
    },
    {
     "data": {
      "image/png": "[encoded data removed]",
      "text/plain": [
       "<Figure size 432x288 with 2 Axes>"
      ]
     },
     "metadata": {
      "needs_background": "light"
     },
     "output_type": "display_data"
    }
   ],
   "source": [
    "sns.heatmap(corr)"
   ]
  },
  {
   "cell_type": "code",
   "execution_count": 526,
   "metadata": {},
   "outputs": [
    {
     "data": {
      "image/png": "[encoded data removed]",
      "text/plain": [
       "<Figure size 432x288 with 1 Axes>"
      ]
     },
     "metadata": {
      "needs_background": "light"
     },
     "output_type": "display_data"
    },
    {
     "data": {
      "image/png": "[encoded data removed]",
      "text/plain": [
       "<Figure size 432x288 with 1 Axes>"
      ]
     },
     "metadata": {
      "needs_background": "light"
     },
     "output_type": "display_data"
    },
    {
     "data": {
      "image/png": "[encoded data removed]",
      "text/plain": [
       "<Figure size 432x288 with 1 Axes>"
      ]
     },
     "metadata": {
      "needs_background": "light"
     },
     "output_type": "display_data"
    },
    {
     "data": {
      "image/png": "[encoded data removed]",
      "text/plain": [
       "<Figure size 432x288 with 1 Axes>"
      ]
     },
     "metadata": {
      "needs_background": "light"
     },
     "output_type": "display_data"
    },
    {
     "data": {
      "image/png": "[encoded data removed]",
      "text/plain": [
       "<Figure size 432x288 with 1 Axes>"
      ]
     },
     "metadata": {
      "needs_background": "light"
     },
     "output_type": "display_data"
    },
    {
     "data": {
      "image/png": "[encoded data removed]",
      "text/plain": [
       "<Figure size 432x288 with 1 Axes>"
      ]
     },
     "metadata": {
      "needs_background": "light"
     },
     "output_type": "display_data"
    },
    {
     "data": {
      "image/png": "[encoded data removed]",
      "text/plain": [
       "<Figure size 432x288 with 1 Axes>"
      ]
     },
     "metadata": {
      "needs_background": "light"
     },
     "output_type": "display_data"
    },
    {
     "data": {
      "image/png": "[encoded data removed]",
      "text/plain": [
       "<Figure size 432x288 with 1 Axes>"
      ]
     },
     "metadata": {
      "needs_background": "light"
     },
     "output_type": "display_data"
    },
    {
     "data": {
      "image/png": "[encoded data removed]",
      "text/plain": [
       "<Figure size 432x288 with 1 Axes>"
      ]
     },
     "metadata": {
      "needs_background": "light"
     },
     "output_type": "display_data"
    },
    {
     "data": {
      "image/png": "[encoded data removed]",
      "text/plain": [
       "<Figure size 432x288 with 1 Axes>"
      ]
     },
     "metadata": {
      "needs_background": "light"
     },
     "output_type": "display_data"
    },
    {
     "data": {
      "image/png": "[encoded data removed]",
      "text/plain": [
       "<Figure size 432x288 with 1 Axes>"
      ]
     },
     "metadata": {
      "needs_background": "light"
     },
     "output_type": "display_data"
    },
    {
     "data": {
      "image/png": "[encoded data removed]",
      "text/plain": [
       "<Figure size 432x288 with 1 Axes>"
      ]
     },
     "metadata": {
      "needs_background": "light"
     },
     "output_type": "display_data"
    },
    {
     "data": {
      "image/png": "[encoded data removed]",
      "text/plain": [
       "<Figure size 432x288 with 1 Axes>"
      ]
     },
     "metadata": {
      "needs_background": "light"
     },
     "output_type": "display_data"
    },
    {
     "data": {
      "image/png": "[encoded data removed]",
      "text/plain": [
       "<Figure size 432x288 with 1 Axes>"
      ]
     },
     "metadata": {
      "needs_background": "light"
     },
     "output_type": "display_data"
    }
   ],
   "source": [
    "for col_name in test_key_fields:\n",
    "    #air_status[col_name].hist()\n",
    "    plt.boxplot(air_status[col_name].dropna())\n",
    "    plt.title(col_name)\n",
    "    plt.show()"
   ]
  },
  {
   "cell_type": "code",
   "execution_count": 527,
   "metadata": {},
   "outputs": [],
   "source": [
    "\n",
    "test_key_fields.remove('TOTAL_NO3')\n",
    "sc = StandardScaler()"
   ]
  },
  {
   "cell_type": "code",
   "execution_count": 528,
   "metadata": {},
   "outputs": [
    {
     "name": "stdout",
     "output_type": "stream",
     "text": [
      "[[ 1.31625218  2.21247451  2.34015301 ... -0.14122563 -0.20077606\n",
      "   0.63570192]\n",
      " [ 0.28318755 -0.13823673  0.18461987 ...  0.05732535  0.01889341\n",
      "   0.75176771]\n",
      " [ 1.12585281  0.59039316  0.44212651 ...  0.33265971  0.30908584\n",
      "   0.89708634]\n",
      " ...\n",
      " [ 0.08652616 -0.46416299 -0.11500084 ...  0.88875756  0.85516223\n",
      "   0.65793897]\n",
      " [ 0.63149145 -0.24486549  0.22191172 ...  1.2737086   1.29616894\n",
      "   0.56629123]\n",
      " [ 1.21622904 -0.47914677  0.83015463 ...  0.80395974  0.820139\n",
      "   0.60506117]]\n",
      "0       6.0754\n",
      "1       4.0244\n",
      "2       5.7479\n",
      "3       5.0664\n",
      "4       5.5863\n",
      "5       7.3366\n",
      "6       6.0183\n",
      "7       4.3572\n",
      "8       6.8593\n",
      "9       5.0859\n",
      "10      3.0003\n",
      "11      5.9289\n",
      "12      4.3687\n",
      "13      4.1227\n",
      "14      4.4034\n",
      "15      5.1839\n",
      "16      2.6052\n",
      "17      1.6309\n",
      "18      1.9709\n",
      "19      4.2571\n",
      "20      1.2472\n",
      "21      1.4104\n",
      "22      1.3970\n",
      "23      1.4969\n",
      "24      1.3198\n",
      "25      0.5225\n",
      "26      0.7587\n",
      "27      0.5721\n",
      "28      0.4855\n",
      "29      2.6958\n",
      "         ...  \n",
      "6129    0.3003\n",
      "6130    0.7147\n",
      "6131    0.8688\n",
      "6132    1.1366\n",
      "6133    1.1299\n",
      "6134    1.3848\n",
      "6135    1.3835\n",
      "6136    1.2895\n",
      "6137    1.1063\n",
      "6138    2.0295\n",
      "6139    1.3216\n",
      "6140    0.1454\n",
      "6141    0.2096\n",
      "6142    0.2153\n",
      "6143    0.1985\n",
      "6144    0.6018\n",
      "6145    1.0061\n",
      "6146    0.9594\n",
      "6147    0.5300\n",
      "6148    0.2046\n",
      "6149    0.3329\n",
      "6150    0.3816\n",
      "6151    0.5891\n",
      "6152    0.6231\n",
      "6153    0.7283\n",
      "6154    0.5690\n",
      "6155    1.1004\n",
      "6156    1.0884\n",
      "6157    1.5961\n",
      "6158    1.3706\n",
      "Name: TOTAL_NO3, Length: 6159, dtype: float64\n"
     ]
    }
   ],
   "source": [
    "x = sc.fit_transform(air_status[test_key_fields])\n",
    "y = air_status['TOTAL_NO3']\n",
    "print(x)\n",
    "print(y)\n",
    "\n"
   ]
  },
  {
   "cell_type": "code",
   "execution_count": 529,
   "metadata": {},
   "outputs": [],
   "source": [
    "x_train,x_test,y_train,y_test=train_test_split(x,y,test_size=0.2)\n",
    "\n"
   ]
  },
  {
   "cell_type": "code",
   "execution_count": 530,
   "metadata": {},
   "outputs": [
    {
     "data": {
      "text/plain": [
       "<matplotlib.collections.PathCollection at 0x7efc68572f28>"
      ]
     },
     "execution_count": 530,
     "metadata": {},
     "output_type": "execute_result"
    },
    {
     "data": {
      "image/png": "[encoded data removed]",
      "text/plain": [
       "<Figure size 432x288 with 1 Axes>"
      ]
     },
     "metadata": {
      "needs_background": "light"
     },
     "output_type": "display_data"
    }
   ],
   "source": [
    "plt.scatter(air_status.DATEON,air_status.TNO3)\n"
   ]
  },
  {
   "cell_type": "code",
   "execution_count": 531,
   "metadata": {},
   "outputs": [],
   "source": [
    "lr = LinearRegression()\n",
    "lr.fit(x_train, y_train)\n",
    "y_predict = lr.predict(x_test)"
   ]
  },
  {
   "cell_type": "code",
   "execution_count": 532,
   "metadata": {},
   "outputs": [
    {
     "data": {
      "text/plain": [
       "array([-6.64874754e-07,  8.60931430e-01, -7.02704190e-08,  1.50504597e-06,\n",
       "       -9.64122931e-08,  3.61868975e-07, -1.16588981e-06,  1.67623075e-06,\n",
       "        3.17919184e-04,  1.04710053e+00,  2.45708440e-03, -2.66635092e-03,\n",
       "       -7.06619454e-08])"
      ]
     },
     "execution_count": 532,
     "metadata": {},
     "output_type": "execute_result"
    },
    {
     "data": {
      "image/png": "[encoded data removed]",
      "text/plain": [
       "<Figure size 432x288 with 1 Axes>"
      ]
     },
     "metadata": {
      "needs_background": "light"
     },
     "output_type": "display_data"
    }
   ],
   "source": [
    "plt.scatter(y_predict, y_test)\n",
    "lr.coef_\n",
    "\n"
   ]
  },
  {
   "cell_type": "code",
   "execution_count": 533,
   "metadata": {},
   "outputs": [
    {
     "name": "stdout",
     "output_type": "stream",
     "text": [
      "R2= 0.9999999990080165\n",
      "sum of squared error= 2.951001261982285e-06\n"
     ]
    }
   ],
   "source": [
    "print(\"R2=\", lr.score(x_train, y_train))\n",
    "print(\"sum of squared error=\", mean_squared_error(y_predict, y_test) * len(y_test))"
   ]
  },
  {
   "cell_type": "code",
   "execution_count": 534,
   "metadata": {},
   "outputs": [
    {
     "name": "stdout",
     "output_type": "stream",
     "text": [
      "[21:02:33] WARNING: src/objective/regression_obj.cu:152: reg:linear is now deprecated in favor of reg:squarederror.\n"
     ]
    },
    {
     "name": "stderr",
     "output_type": "stream",
     "text": [
      "/opt/conda/lib/python3.6/site-packages/xgboost/core.py:587: FutureWarning: Series.base is deprecated and will be removed in a future version\n",
      "  if getattr(data, 'base', None) is not None and \\\n"
     ]
    }
   ],
   "source": [
    "xgb = xgboost.XGBRegressor()\n",
    "xgb.fit(x_train, y_train)\n",
    "y_predict_xgb =xgb.predict(x_test)\n"
   ]
  },
  {
   "cell_type": "code",
   "execution_count": 535,
   "metadata": {},
   "outputs": [
    {
     "data": {
      "text/plain": [
       "<matplotlib.collections.PathCollection at 0x7efc643691d0>"
      ]
     },
     "execution_count": 535,
     "metadata": {},
     "output_type": "execute_result"
    },
    {
     "data": {
      "image/png": "[encoded data removed]",
      "text/plain": [
       "<Figure size 432x288 with 1 Axes>"
      ]
     },
     "metadata": {
      "needs_background": "light"
     },
     "output_type": "display_data"
    }
   ],
   "source": [
    "plt.scatter(y_predict_xgb, y_test)"
   ]
  },
  {
   "cell_type": "code",
   "execution_count": 536,
   "metadata": {},
   "outputs": [
    {
     "name": "stdout",
     "output_type": "stream",
     "text": [
      "xgb R2= 0.9985184167980848\n",
      "xgb sum of squared error= 8.685121614666903\n"
     ]
    }
   ],
   "source": [
    "print(\"xgb R2=\", xgb.score(x_train, y_train))\n",
    "print(\"xgb sum of squared error=\", mean_squared_error(y_predict_xgb, y_test) * len(y_test))"
   ]
  },
  {
   "cell_type": "code",
   "execution_count": 537,
   "metadata": {},
   "outputs": [
    {
     "name": "stdout",
     "output_type": "stream",
     "text": [
      "[[ 2.31514063  0.82460999  1.24239487 ...  0.65210153  0.67113109\n",
      "   0.56430115]\n",
      " [ 1.30988089  1.53655268  0.22609609 ...  0.13816694  0.10829313\n",
      "   5.54314064]\n",
      " [ 1.20565012  0.40315458  0.87699879 ... -0.13559272 -0.17078324\n",
      "   0.50490934]\n",
      " ...\n",
      " [-0.05327329 -0.4193252  -0.09378919 ... -0.0286519   0.06021866\n",
      "   0.51625196]\n",
      " [-0.17682576 -0.49659639 -0.15763528 ...  0.67132436  0.68966828\n",
      "   0.36521231]\n",
      " [ 0.01320041 -0.3889406  -0.08101997 ...  0.41148469  0.44542554\n",
      "   0.47595984]]\n"
     ]
    }
   ],
   "source": [
    "#scaling the supplied test data\n",
    "# no na in the test\n",
    "scaled_test_x = sc.fit_transform(test[test_key_fields])\n",
    "print(scaled_test_x)"
   ]
  },
  {
   "cell_type": "code",
   "execution_count": 538,
   "metadata": {},
   "outputs": [],
   "source": [
    "test_y_predict = lr.predict(scaled_test_x)\n",
    "test['TOTAL_NO3'] = test_y_predict\n",
    "\n",
    "results=test[['SITE_ID','DATEON','TOTAL_NO3']]\n",
    "results.head()\n",
    "results.to_csv(\"submission_practitioners_team_2.csv\", index=False)"
   ]
  },
  {
   "cell_type": "code",
   "execution_count": null,
   "metadata": {},
   "outputs": [],
   "source": []
  }
 ],
 "metadata": {
  "kernelspec": {
   "display_name": "Python 3",
   "language": "python",
   "name": "python3"
  },
  "language_info": {
   "codemirror_mode": {
    "name": "ipython",
    "version": 3
   },
   "file_extension": ".py",
   "mimetype": "text/x-python",
   "name": "python",
   "nbconvert_exporter": "python",
   "pygments_lexer": "ipython3",
   "version": "3.6.10"
  }
 },
 "nbformat": 4,
 "nbformat_minor": 4
}
